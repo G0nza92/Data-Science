{
 "cells": [
  {
   "cell_type": "markdown",
   "id": "77199fdc",
   "metadata": {
    "id": "77199fdc",
    "toc": true
   },
   "source": [
    "<h1>Table of Contents<span class=\"tocSkip\"></span></h1>\n",
    "<div class=\"toc\"><ul class=\"toc-item\"><li><span><a href=\"#Importamos-Librerias\" data-toc-modified-id=\"Importamos-Librerias-1\"><span class=\"toc-item-num\">1&nbsp;&nbsp;</span>Importamos Librerias</a></span></li><li><span><a href=\"#Los-Datos\" data-toc-modified-id=\"Los-Datos-2\"><span class=\"toc-item-num\">2&nbsp;&nbsp;</span>Los Datos</a></span></li><li><span><a href=\"#Dividimos-Train-y-Test\" data-toc-modified-id=\"Dividimos-Train-y-Test-3\"><span class=\"toc-item-num\">3&nbsp;&nbsp;</span>Dividimos Train y Test</a></span></li><li><span><a href=\"#Seleccion-de-Modelos\" data-toc-modified-id=\"Seleccion-de-Modelos-4\"><span class=\"toc-item-num\">4&nbsp;&nbsp;</span>Seleccion de Modelos</a></span><ul class=\"toc-item\"><li><span><a href=\"#Arbol-de-Clasificacion\" data-toc-modified-id=\"Arbol-de-Clasificacion-4.1\"><span class=\"toc-item-num\">4.1&nbsp;&nbsp;</span>Arbol de Clasificacion</a></span></li><li><span><a href=\"#Cross-Validation\" data-toc-modified-id=\"Cross-Validation-4.2\"><span class=\"toc-item-num\">4.2&nbsp;&nbsp;</span>Cross Validation</a></span></li><li><span><a href=\"#Normalizacion-de-Datos\" data-toc-modified-id=\"Normalizacion-de-Datos-4.3\"><span class=\"toc-item-num\">4.3&nbsp;&nbsp;</span>Normalizacion de Datos</a></span></li><li><span><a href=\"#Regresion-Logistica\" data-toc-modified-id=\"Regresion-Logistica-4.4\"><span class=\"toc-item-num\">4.4&nbsp;&nbsp;</span>Regresion Logistica</a></span></li><li><span><a href=\"#KNN\" data-toc-modified-id=\"KNN-4.5\"><span class=\"toc-item-num\">4.5&nbsp;&nbsp;</span>KNN</a></span></li><li><span><a href=\"#SMV\" data-toc-modified-id=\"SMV-4.6\"><span class=\"toc-item-num\">4.6&nbsp;&nbsp;</span>SMV</a></span></li><li><span><a href=\"#SMV-Lineal\" data-toc-modified-id=\"SMV-Lineal-4.7\"><span class=\"toc-item-num\">4.7&nbsp;&nbsp;</span>SMV Lineal</a></span></li><li><span><a href=\"#SMV-con-Kernel-no-lineal-&quot;rbf&quot;\" data-toc-modified-id=\"SMV-con-Kernel-no-lineal-&quot;rbf&quot;-4.8\"><span class=\"toc-item-num\">4.8&nbsp;&nbsp;</span>SMV con Kernel no lineal \"rbf\"</a></span></li><li><span><a href=\"#SMV-con-Kernel-polinomico-grado-3\" data-toc-modified-id=\"SMV-con-Kernel-polinomico-grado-3-4.9\"><span class=\"toc-item-num\">4.9&nbsp;&nbsp;</span>SMV con Kernel polinomico grado 3</a></span></li><li><span><a href=\"#SVM-con-kernel-polinómico-de-grado-4\" data-toc-modified-id=\"SVM-con-kernel-polinómico-de-grado-4-4.10\"><span class=\"toc-item-num\">4.10&nbsp;&nbsp;</span>SVM con kernel polinómico de grado 4</a></span></li><li><span><a href=\"#SVM-con-kernel-sigmoide\" data-toc-modified-id=\"SVM-con-kernel-sigmoide-4.11\"><span class=\"toc-item-num\">4.11&nbsp;&nbsp;</span>SVM con kernel sigmoide</a></span></li><li><span><a href=\"#Voting-Classifier\" data-toc-modified-id=\"Voting-Classifier-4.12\"><span class=\"toc-item-num\">4.12&nbsp;&nbsp;</span>Voting Classifier</a></span></li><li><span><a href=\"#GridSearchCV-con-VotingClassifier\" data-toc-modified-id=\"GridSearchCV-con-VotingClassifier-4.13\"><span class=\"toc-item-num\">4.13&nbsp;&nbsp;</span>GridSearchCV con VotingClassifier</a></span><ul class=\"toc-item\"><li><span><a href=\"#Regresion-lineal-con-ridge\" data-toc-modified-id=\"Regresion-lineal-con-ridge-4.13.1\"><span class=\"toc-item-num\">4.13.1&nbsp;&nbsp;</span>Regresion lineal con ridge</a></span></li><li><span><a href=\"#KNN\" data-toc-modified-id=\"KNN-4.13.2\"><span class=\"toc-item-num\">4.13.2&nbsp;&nbsp;</span>KNN</a></span></li><li><span><a href=\"#Arbol\" data-toc-modified-id=\"Arbol-4.13.3\"><span class=\"toc-item-num\">4.13.3&nbsp;&nbsp;</span>Arbol</a></span></li><li><span><a href=\"#SMV\" data-toc-modified-id=\"SMV-4.13.4\"><span class=\"toc-item-num\">4.13.4&nbsp;&nbsp;</span>SMV</a></span></li><li><span><a href=\"#Creamos-el-&quot;meta-modelo&quot;-con-el-ensemble-del-VotingClassifier\" data-toc-modified-id=\"Creamos-el-&quot;meta-modelo&quot;-con-el-ensemble-del-VotingClassifier-4.13.5\"><span class=\"toc-item-num\">4.13.5&nbsp;&nbsp;</span>Creamos el \"meta modelo\" con el ensemble del VotingClassifier</a></span></li></ul></li><li><span><a href=\"#Creamos-GridSearchCV\" data-toc-modified-id=\"Creamos-GridSearchCV-4.14\"><span class=\"toc-item-num\">4.14&nbsp;&nbsp;</span>Creamos GridSearchCV</a></span><ul class=\"toc-item\"><li><span><a href=\"#Lo-Entrenamos\" data-toc-modified-id=\"Lo-Entrenamos-4.14.1\"><span class=\"toc-item-num\">4.14.1&nbsp;&nbsp;</span>Lo Entrenamos</a></span></li><li><span><a href=\"#Lo-Evaluamos\" data-toc-modified-id=\"Lo-Evaluamos-4.14.2\"><span class=\"toc-item-num\">4.14.2&nbsp;&nbsp;</span>Lo Evaluamos</a></span></li></ul></li><li><span><a href=\"#Ramdom-Forest\" data-toc-modified-id=\"Ramdom-Forest-4.15\"><span class=\"toc-item-num\">4.15&nbsp;&nbsp;</span>Ramdom Forest</a></span><ul class=\"toc-item\"><li><span><a href=\"#Creamos-el-Modelo\" data-toc-modified-id=\"Creamos-el-Modelo-4.15.1\"><span class=\"toc-item-num\">4.15.1&nbsp;&nbsp;</span>Creamos el Modelo</a></span></li><li><span><a href=\"#Lo-Entrenamos\" data-toc-modified-id=\"Lo-Entrenamos-4.15.2\"><span class=\"toc-item-num\">4.15.2&nbsp;&nbsp;</span>Lo Entrenamos</a></span></li><li><span><a href=\"#Lo-Evaluamos\" data-toc-modified-id=\"Lo-Evaluamos-4.15.3\"><span class=\"toc-item-num\">4.15.3&nbsp;&nbsp;</span>Lo Evaluamos</a></span></li></ul></li><li><span><a href=\"#Extremely-Randomized-Trees\" data-toc-modified-id=\"Extremely-Randomized-Trees-4.16\"><span class=\"toc-item-num\">4.16&nbsp;&nbsp;</span>Extremely Randomized Trees</a></span></li></ul></li><li><span><a href=\"#Eleccion-de-Modelo\" data-toc-modified-id=\"Eleccion-de-Modelo-5\"><span class=\"toc-item-num\">5&nbsp;&nbsp;</span>Eleccion de Modelo</a></span><ul class=\"toc-item\"><li><span><a href=\"#Normalizamos\" data-toc-modified-id=\"Normalizamos-5.1\"><span class=\"toc-item-num\">5.1&nbsp;&nbsp;</span>Normalizamos</a></span></li><li><span><a href=\"#Entrenamos-y-Evaluamos\" data-toc-modified-id=\"Entrenamos-y-Evaluamos-5.2\"><span class=\"toc-item-num\">5.2&nbsp;&nbsp;</span>Entrenamos y Evaluamos</a></span></li><li><span><a href=\"#Modelo-de-Produccion\" data-toc-modified-id=\"Modelo-de-Produccion-5.3\"><span class=\"toc-item-num\">5.3&nbsp;&nbsp;</span>Modelo de Produccion</a></span><ul class=\"toc-item\"><li><span><a href=\"#Nuevos-Datos\" data-toc-modified-id=\"Nuevos-Datos-5.3.1\"><span class=\"toc-item-num\">5.3.1&nbsp;&nbsp;</span>Nuevos Datos</a></span></li></ul></li></ul></li></ul></div>"
   ]
  },
  {
   "cell_type": "markdown",
   "id": "5bb9953f",
   "metadata": {
    "id": "5bb9953f"
   },
   "source": [
    "#  Importamos Librerias"
   ]
  },
  {
   "cell_type": "code",
   "execution_count": null,
   "id": "4b76f87f",
   "metadata": {
    "ExecuteTime": {
     "end_time": "2021-11-23T02:47:52.412321Z",
     "start_time": "2021-11-23T02:47:52.394321Z"
    },
    "id": "4b76f87f"
   },
   "outputs": [],
   "source": [
    "import numpy as np\n",
    "import pandas as pd\n",
    "import sklearn\n",
    "import matplotlib.pyplot as plt\n",
    "from sklearn.model_selection import train_test_split\n",
    "from sklearn.tree import DecisionTreeClassifier\n",
    "from sklearn.metrics import confusion_matrix, accuracy_score, f1_score\n",
    "from sklearn.preprocessing import MinMaxScaler\n",
    "from sklearn.compose import ColumnTransformer\n",
    "from sklearn.preprocessing import OrdinalEncoder\n",
    "from sklearn.neighbors import KNeighborsClassifier\n",
    "# Importamos las librerías para los modelos\n",
    "from sklearn import linear_model        # Para regresión Logística\n",
    "from sklearn import neighbors           # para kNN\n",
    "from sklearn.tree import DecisionTreeClassifier  # para Árbol de Decisión\n",
    "from sklearn.svm import LinearSVC"
   ]
  },
  {
   "cell_type": "code",
   "execution_count": null,
   "id": "bQruYcZNQQMY",
   "metadata": {
    "colab": {
     "base_uri": "https://localhost:8080/"
    },
    "id": "bQruYcZNQQMY",
    "outputId": "4ad202b7-8282-41ed-f794-5272fb9a582b"
   },
   "outputs": [
    {
     "name": "stdout",
     "output_type": "stream",
     "text": [
      "Drive already mounted at /content/drive; to attempt to forcibly remount, call drive.mount(\"/content/drive\", force_remount=True).\n"
     ]
    }
   ],
   "source": [
    "from google.colab import drive\n",
    "drive.mount('/content/drive')"
   ]
  },
  {
   "cell_type": "markdown",
   "id": "397d6e5a",
   "metadata": {
    "id": "397d6e5a"
   },
   "source": [
    "#  Los Datos"
   ]
  },
  {
   "cell_type": "code",
   "execution_count": null,
   "id": "1ea0425d",
   "metadata": {
    "ExecuteTime": {
     "end_time": "2021-11-23T02:47:56.576482Z",
     "start_time": "2021-11-23T02:47:52.663324Z"
    },
    "id": "1ea0425d"
   },
   "outputs": [],
   "source": [
    "\n",
    "X=np.load('/content/drive/MyDrive/AA2/IEFI/data_Alumno/X_MNIST_60_mil.npy', allow_pickle=True)\n",
    "y=np.load('/content/drive/MyDrive/AA2/IEFI/data_Alumno/y_MNIST_60_mil.npy', allow_pickle=True)\n",
    "y = y.astype(np.uint8)   # algunos algoritmos dan error si los valores de y no son números"
   ]
  },
  {
   "cell_type": "code",
   "execution_count": null,
   "id": "30e6b9f0",
   "metadata": {
    "ExecuteTime": {
     "end_time": "2021-11-23T02:47:56.591480Z",
     "start_time": "2021-11-23T02:47:56.580477Z"
    },
    "colab": {
     "base_uri": "https://localhost:8080/"
    },
    "id": "30e6b9f0",
    "outputId": "60e153a9-572b-4a46-c8a1-bf18daffdd32"
   },
   "outputs": [
    {
     "data": {
      "text/plain": [
       "((60000, 784), (60000,))"
      ]
     },
     "execution_count": 4,
     "metadata": {},
     "output_type": "execute_result"
    }
   ],
   "source": [
    "X.shape, y.shape"
   ]
  },
  {
   "cell_type": "code",
   "execution_count": null,
   "id": "c96bd34b",
   "metadata": {
    "ExecuteTime": {
     "end_time": "2021-11-23T02:47:56.824475Z",
     "start_time": "2021-11-23T02:47:56.595482Z"
    },
    "colab": {
     "base_uri": "https://localhost:8080/"
    },
    "id": "c96bd34b",
    "outputId": "6da556f9-3acf-4ed9-9346-ea8e941aa8a2"
   },
   "outputs": [
    {
     "data": {
      "text/plain": [
       "array([  0.,   0.,   0.,   0.,   0.,   0.,   0.,   0.,   0.,   0.,   0.,\n",
       "         0.,   0.,   0.,   0.,   0.,   0.,   0.,   0.,   0.,   0.,   0.,\n",
       "         0.,   0.,   0.,   0.,   0.,   0.,   0.,   0.,   0.,   0.,   0.,\n",
       "         0.,   0.,   0.,   0.,   0.,   0.,   0.,   0.,   0.,   0.,   0.,\n",
       "         0.,   0.,   0.,   0.,   0.,   0.,   0.,   0.,   0.,   0.,   0.,\n",
       "         0.,   0.,   0.,   0.,   0.,   0.,   0.,   0.,   0.,   0.,   0.,\n",
       "         0.,   0.,   0.,   0.,   0.,   0.,   0.,   0.,   0.,   0.,   0.,\n",
       "         0.,   0.,   0.,   0.,   0.,   0.,   0.,   0.,   0.,   0.,   0.,\n",
       "         0.,   0.,   0.,   0.,   0.,   0.,   0.,   0.,   0.,   0.,   0.,\n",
       "         0.,   0.,   0.,   0.,   0.,   0.,   0.,   0.,   0.,   0.,   0.,\n",
       "         0.,   0.,   0.,   0.,   0.,   0.,   0.,   0.,   0.,   0.,   0.,\n",
       "         0.,   0.,   0.,   0.,   0.,  51., 191.,  25.,   0.,   0.,   0.,\n",
       "         0.,   0.,   0.,   0.,   0.,   0.,   0.,   0.,   0.,   0.,   0.,\n",
       "         0.,   0.,   0.,   0.,   0.,   0.,   0.,   0.,   0.,   0., 126.,\n",
       "       238., 252.,  55.,   0.,   0.,   0.,   0.,   0.,   0.,   0.,   0.,\n",
       "         0.,   0.,   0.,   0.,   0.,   0.,   0.,   0.,   0.,   0.,   0.,\n",
       "         0.,   0.,   0.,   0.,   0., 140., 253., 252.,  55.,   0.,   0.,\n",
       "         0.,   0.,   0.,   0.,   0.,   0.,   0.,   0.,   0.,   0.,   0.,\n",
       "         0.,   0.,   0.,   0.,   0.,   0.,   0.,   0.,   0.,   0.,   0.,\n",
       "       140., 253., 242.,  49.,   0.,   0.,   0.,   0.,   0.,   0.,   0.,\n",
       "         0.,   0.,   0.,   0.,   0.,   0.,   0.,   0.,   0.,   0.,   0.,\n",
       "         0.,   0.,   0.,   0.,   0.,   0., 140., 253., 167.,   0.,   0.,\n",
       "         0.,   0.,   0.,   0.,   0.,   0.,   0.,   0.,   0.,   0.,   0.,\n",
       "         0.,   0.,   0.,   0.,   0.,   0.,   0.,   0.,   0.,   0.,   0.,\n",
       "        29., 253., 255., 168.,   0.,   0.,   0.,   0.,   0.,   0.,   0.,\n",
       "         0.,   0.,   0.,   0.,   0.,   0.,   0.,   0.,   0.,   0.,   0.,\n",
       "         0.,   0.,   0.,   0.,   0.,   0.,  29., 252., 253., 167.,   0.,\n",
       "         0.,   0.,   0.,   0.,   0.,   0.,   0.,   0.,   0.,   0.,   0.,\n",
       "         0.,   0.,   0.,   0.,   0.,   0.,   0.,   0.,   0.,   0.,   0.,\n",
       "         0.,  29., 252., 253.,  58.,   0.,   0.,   0.,   0.,   0.,   0.,\n",
       "         0.,   0.,   0.,   0.,   0.,   0.,   0.,   0.,   0.,   0.,   0.,\n",
       "         0.,   0.,   0.,   0.,   0.,   0.,   0.,  44., 252., 253.,  27.,\n",
       "         0.,   0.,   0.,   0.,   0.,   0.,   0.,   0.,   0.,   0.,   0.,\n",
       "         0.,   0.,   0.,   0.,   0.,   0.,   0.,   0.,   0.,   0.,   0.,\n",
       "         0.,   0., 169., 252., 253.,  27.,   0.,   0.,   0.,   0.,   0.,\n",
       "         0.,   0.,   0.,   0.,   0.,   0.,   0.,   0.,   0.,   0.,   0.,\n",
       "         0.,   0.,   0.,   0.,   0.,   0.,   0.,  57., 253., 253., 255.,\n",
       "        27.,   0.,   0.,   0.,   0.,   0.,   0.,   0.,   0.,   0.,   0.,\n",
       "         0.,   0.,   0.,   0.,   0.,   0.,   0.,   0.,   0.,   0.,   0.,\n",
       "         0.,   0.,   6., 177., 252., 253.,  27.,   0.,   0.,   0.,   0.,\n",
       "         0.,   0.,   0.,   0.,   0.,   0.,   0.,   0.,   0.,   0.,   0.,\n",
       "         0.,   0.,   0.,   0.,   0.,   0.,   0.,   0.,   0., 137., 252.,\n",
       "       253.,  59.,   0.,   0.,   0.,   0.,   0.,   0.,   0.,   0.,   0.,\n",
       "         0.,   0.,   0.,   0.,   0.,   0.,   0.,   0.,   0.,   0.,   0.,\n",
       "         0.,   0.,   0.,   0., 123., 252., 253., 167.,   0.,   0.,   0.,\n",
       "         0.,   0.,   0.,   0.,   0.,   0.,   0.,   0.,   0.,   0.,   0.,\n",
       "         0.,   0.,   0.,   0.,   0.,   0.,   0.,   0.,   0.,   0., 169.,\n",
       "       252., 253., 167.,   0.,   0.,   0.,   0.,   0.,   0.,   0.,   0.,\n",
       "         0.,   0.,   0.,   0.,   0.,   0.,   0.,   0.,   0.,   0.,   0.,\n",
       "         0.,   0.,   0.,   0.,   0., 169., 253., 255., 168.,   0.,   0.,\n",
       "         0.,   0.,   0.,   0.,   0.,   0.,   0.,   0.,   0.,   0.,   0.,\n",
       "         0.,   0.,   0.,   0.,   0.,   0.,   0.,   0.,   0.,   0.,   0.,\n",
       "       169., 252., 253.,  42.,   0.,   0.,   0.,   0.,   0.,   0.,   0.,\n",
       "         0.,   0.,   0.,   0.,   0.,   0.,   0.,   0.,   0.,   0.,   0.,\n",
       "         0.,   0.,   0.,   0.,   0.,  45., 234., 252., 228.,  21.,   0.,\n",
       "         0.,   0.,   0.,   0.,   0.,   0.,   0.,   0.,   0.,   0.,   0.,\n",
       "         0.,   0.,   0.,   0.,   0.,   0.,   0.,   0.,   0.,   0.,   0.,\n",
       "        57., 252., 252., 126.,   0.,   0.,   0.,   0.,   0.,   0.,   0.,\n",
       "         0.,   0.,   0.,   0.,   0.,   0.,   0.,   0.,   0.,   0.,   0.,\n",
       "         0.,   0.,   0.,   0.,   0.,   0.,  25., 205., 252.,   0.,   0.,\n",
       "         0.,   0.,   0.,   0.,   0.,   0.,   0.,   0.,   0.,   0.,   0.,\n",
       "         0.,   0.,   0.,   0.,   0.,   0.,   0.,   0.,   0.,   0.,   0.,\n",
       "         0.,   0.,   0.,   0.,   0.,   0.,   0.,   0.,   0.,   0.,   0.,\n",
       "         0.,   0.,   0.,   0.,   0.,   0.,   0.,   0.,   0.,   0.,   0.,\n",
       "         0.,   0.,   0.,   0.,   0.,   0.,   0.,   0.,   0.,   0.,   0.,\n",
       "         0.,   0.,   0.,   0.,   0.,   0.,   0.,   0.,   0.,   0.,   0.,\n",
       "         0.,   0.,   0.,   0.,   0.,   0.,   0.,   0.,   0.,   0.,   0.,\n",
       "         0.,   0.,   0.,   0.,   0.,   0.,   0.,   0.,   0.,   0.,   0.,\n",
       "         0.,   0.,   0.,   0.,   0.,   0.,   0.,   0.,   0.,   0.,   0.,\n",
       "         0.,   0.,   0.,   0.,   0.,   0.,   0.,   0.,   0.,   0.,   0.,\n",
       "         0.,   0.,   0.,   0.,   0.,   0.,   0.,   0.,   0.,   0.,   0.,\n",
       "         0.,   0.,   0.])"
      ]
     },
     "execution_count": 5,
     "metadata": {},
     "output_type": "execute_result"
    }
   ],
   "source": [
    "X[5,:]"
   ]
  },
  {
   "cell_type": "code",
   "execution_count": null,
   "id": "10064ccb",
   "metadata": {
    "ExecuteTime": {
     "end_time": "2021-11-23T02:47:57.318477Z",
     "start_time": "2021-11-23T02:47:56.828480Z"
    },
    "colab": {
     "base_uri": "https://localhost:8080/"
    },
    "id": "10064ccb",
    "outputId": "8c449de0-8f96-4f0a-fb52-8f9f20f7b9d0"
   },
   "outputs": [
    {
     "data": {
      "text/plain": [
       "(60000, 28, 28)"
      ]
     },
     "execution_count": 6,
     "metadata": {},
     "output_type": "execute_result"
    }
   ],
   "source": [
    "X_img=np.resize(X,(60000,28,28))\n",
    "X_img.shape"
   ]
  },
  {
   "cell_type": "code",
   "execution_count": null,
   "id": "c5c1ef27",
   "metadata": {
    "ExecuteTime": {
     "end_time": "2021-11-23T02:48:00.311476Z",
     "start_time": "2021-11-23T02:47:57.323478Z"
    },
    "colab": {
     "base_uri": "https://localhost:8080/",
     "height": 571
    },
    "id": "c5c1ef27",
    "outputId": "aa899e6a-ddcd-4a8e-f920-9af5bcbe0696"
   },
   "outputs": [
    {
     "data": {
      "image/png": "[encoded data removed]",
      "text/plain": [
       "<Figure size 720x720 with 24 Axes>"
      ]
     },
     "metadata": {
      "needs_background": "light"
     },
     "output_type": "display_data"
    }
   ],
   "source": [
    "pos_inicial=500            # Seleccionar a partir de qué imagen queremos ver ésa y las  23 imágenes siguientes\n",
    "\n",
    "plt.figure(figsize = (10,10))               # tamaño de todo el plot\n",
    "plt.subplots_adjust(wspace=0.3, hspace=0.3) # para ajustar los espaciados entre cada subplot, como % del total\n",
    "\n",
    "for i in range(0,24):\n",
    "    # cargamos la imagen en cada subplot con imshow()\n",
    "    plt.subplot(4,6,i+1)\n",
    "    plt.imshow(X_img[pos_inicial+i], cmap='binary', vmin=0, vmax=255) \n",
    "    # Info sobre los mapas de color cmap: https://matplotlib.org/3.3.3/tutorials/colors/colormaps.html\n",
    "    plt.title(y[pos_inicial+i])         # obtenemos la clase desde y_clases\n",
    "\n",
    "plt.show()\n"
   ]
  },
  {
   "cell_type": "markdown",
   "id": "f8bd4e6d",
   "metadata": {
    "id": "f8bd4e6d"
   },
   "source": [
    "# Dividimos Train y Test"
   ]
  },
  {
   "cell_type": "code",
   "execution_count": null,
   "id": "0dadad28",
   "metadata": {
    "ExecuteTime": {
     "end_time": "2021-11-23T02:48:00.608477Z",
     "start_time": "2021-11-23T02:48:00.314483Z"
    },
    "id": "0dadad28"
   },
   "outputs": [],
   "source": [
    "X_train, X_test, y_train, y_test = train_test_split(X,y, test_size= 0.20, random_state= 123)\n",
    "X_val_train, X_val_test, y_val_train, y_val_test = train_test_split(X_train, y_train, test_size= 0.20, random_state= 123)"
   ]
  },
  {
   "cell_type": "code",
   "execution_count": null,
   "id": "0eb1531e",
   "metadata": {
    "ExecuteTime": {
     "end_time": "2021-11-23T02:48:00.639477Z",
     "start_time": "2021-11-23T02:48:00.612480Z"
    },
    "colab": {
     "base_uri": "https://localhost:8080/"
    },
    "id": "0eb1531e",
    "outputId": "b0965bfc-45dc-484e-9a9a-73b6479ff6a0"
   },
   "outputs": [
    {
     "data": {
      "text/plain": [
       "array([[0., 0., 0., ..., 0., 0., 0.],\n",
       "       [0., 0., 0., ..., 0., 0., 0.],\n",
       "       [0., 0., 0., ..., 0., 0., 0.],\n",
       "       ...,\n",
       "       [0., 0., 0., ..., 0., 0., 0.],\n",
       "       [0., 0., 0., ..., 0., 0., 0.],\n",
       "       [0., 0., 0., ..., 0., 0., 0.]])"
      ]
     },
     "execution_count": 9,
     "metadata": {},
     "output_type": "execute_result"
    }
   ],
   "source": [
    "X_val_train"
   ]
  },
  {
   "cell_type": "code",
   "execution_count": null,
   "id": "4d503ae0",
   "metadata": {
    "ExecuteTime": {
     "end_time": "2021-11-23T02:48:00.762477Z",
     "start_time": "2021-11-23T02:48:00.646478Z"
    },
    "colab": {
     "base_uri": "https://localhost:8080/"
    },
    "id": "4d503ae0",
    "outputId": "32606bd6-febc-4166-9a66-76bfc6dfffa8"
   },
   "outputs": [
    {
     "data": {
      "text/plain": [
       "array([0, 3, 1, ..., 9, 1, 6], dtype=uint8)"
      ]
     },
     "execution_count": 10,
     "metadata": {},
     "output_type": "execute_result"
    }
   ],
   "source": [
    "y_val_train"
   ]
  },
  {
   "cell_type": "markdown",
   "id": "c23c4a0e",
   "metadata": {
    "id": "c23c4a0e"
   },
   "source": [
    "# Seleccion de Modelos"
   ]
  },
  {
   "cell_type": "markdown",
   "id": "80453522",
   "metadata": {
    "id": "80453522"
   },
   "source": [
    "## Arbol de Clasificacion"
   ]
  },
  {
   "cell_type": "code",
   "execution_count": null,
   "id": "538900ec",
   "metadata": {
    "ExecuteTime": {
     "end_time": "2021-11-23T02:50:44.117745Z",
     "start_time": "2021-11-23T02:48:00.766481Z"
    },
    "colab": {
     "base_uri": "https://localhost:8080/"
    },
    "id": "538900ec",
    "outputId": "c8e78b7d-959e-487e-bd8f-276c9cd3231f"
   },
   "outputs": [
    {
     "name": "stdout",
     "output_type": "stream",
     "text": [
      "Valor de :profundidad  15\n",
      "Acurracy:  0.868\n",
      "F1:  0.866\n"
     ]
    }
   ],
   "source": [
    "profundidades=np.arange(1,20,1)\n",
    "\n",
    "pArbol_max=0\n",
    "ACArbol_max=0\n",
    "F1Arbol_max=0\n",
    "\n",
    "\n",
    "for p in profundidades: \n",
    "    modeloT= modelo=DecisionTreeClassifier(max_depth=p, random_state=123)       \n",
    "    modeloT.fit(X_val_train, y_val_train) \n",
    "    \n",
    "    y_val_pred = modeloT.predict(X_val_test)     \n",
    "    ACArbol=accuracy_score(y_val_test, y_val_pred)\n",
    "    F1Arbol=f1_score(y_val_test,y_val_pred, average='macro')\n",
    "\n",
    "    if ACArbol > ACArbol_max:\n",
    "        pArbol_max=p\n",
    "        ACArbol_max=ACArbol\n",
    "        F1Arbol_max=F1Arbol\n",
    "        \n",
    "    \n",
    "print('Valor de :profundidad ', pArbol_max)\n",
    "print(\"Acurracy: \", round(ACArbol_max,3))\n",
    "print(\"F1: \", round(F1Arbol_max,3))\n"
   ]
  },
  {
   "cell_type": "markdown",
   "id": "1f2c7bb4",
   "metadata": {
    "id": "1f2c7bb4"
   },
   "source": [
    "## Cross Validation"
   ]
  },
  {
   "cell_type": "code",
   "execution_count": null,
   "id": "87870ac4",
   "metadata": {
    "ExecuteTime": {
     "end_time": "2021-11-23T02:51:11.651899Z",
     "start_time": "2021-11-23T02:50:44.124749Z"
    },
    "colab": {
     "base_uri": "https://localhost:8080/"
    },
    "id": "87870ac4",
    "outputId": "458e2eeb-20c9-443c-88f8-1deb7a4c1822"
   },
   "outputs": [
    {
     "name": "stdout",
     "output_type": "stream",
     "text": [
      "AC en cada fold:  [0.55591667 0.551      0.55366667 0.58758333 0.63416667]\n"
     ]
    }
   ],
   "source": [
    "arbol=DecisionTreeClassifier(max_depth=4)\n",
    "from sklearn.model_selection import cross_val_score \n",
    "AC_scoresarbol = cross_val_score(arbol, X, y, cv=5)\n",
    "\n",
    "# veamos los resultados\n",
    "print(\"AC en cada fold: \",AC_scoresarbol)"
   ]
  },
  {
   "cell_type": "code",
   "execution_count": null,
   "id": "2e619ebc",
   "metadata": {
    "ExecuteTime": {
     "end_time": "2021-11-23T02:51:11.666900Z",
     "start_time": "2021-11-23T02:51:11.654907Z"
    },
    "colab": {
     "base_uri": "https://localhost:8080/"
    },
    "id": "2e619ebc",
    "outputId": "ae786290-a1ba-4f82-d459-d63e9876a070"
   },
   "outputs": [
    {
     "data": {
      "text/plain": [
       "0.5764666666666667"
      ]
     },
     "execution_count": 13,
     "metadata": {},
     "output_type": "execute_result"
    }
   ],
   "source": [
    "AC_media=AC_scoresarbol.mean()\n",
    "AC_media"
   ]
  },
  {
   "cell_type": "code",
   "execution_count": null,
   "id": "dbc5278f",
   "metadata": {
    "ExecuteTime": {
     "end_time": "2021-11-23T02:51:11.852903Z",
     "start_time": "2021-11-23T02:51:11.669902Z"
    },
    "colab": {
     "base_uri": "https://localhost:8080/"
    },
    "id": "dbc5278f",
    "outputId": "704611d6-216c-4255-c861-b8af2ffdfbb4"
   },
   "outputs": [
    {
     "data": {
      "text/plain": [
       "0.03176023894396542"
      ]
     },
     "execution_count": 14,
     "metadata": {},
     "output_type": "execute_result"
    }
   ],
   "source": [
    "desvio=AC_scoresarbol.std()\n",
    "desvio"
   ]
  },
  {
   "cell_type": "code",
   "execution_count": null,
   "id": "3d6ac6b4",
   "metadata": {
    "ExecuteTime": {
     "end_time": "2021-11-23T02:51:39.876074Z",
     "start_time": "2021-11-23T02:51:11.855905Z"
    },
    "colab": {
     "base_uri": "https://localhost:8080/"
    },
    "id": "3d6ac6b4",
    "outputId": "98d1a9f5-91fa-426f-a19c-1637e77f48bf"
   },
   "outputs": [
    {
     "name": "stderr",
     "output_type": "stream",
     "text": [
      "/usr/local/lib/python3.7/dist-packages/sklearn/model_selection/_validation.py:774: UserWarning: Scoring failed. The score on this train-test partition for these parameters will be set to nan. Details: \n",
      "Traceback (most recent call last):\n",
      "  File \"/usr/local/lib/python3.7/dist-packages/sklearn/model_selection/_validation.py\", line 761, in _score\n",
      "    scores = scorer(estimator, X_test, y_test)\n",
      "  File \"/usr/local/lib/python3.7/dist-packages/sklearn/metrics/_scorer.py\", line 103, in __call__\n",
      "    score = scorer._score(cached_call, estimator, *args, **kwargs)\n",
      "  File \"/usr/local/lib/python3.7/dist-packages/sklearn/metrics/_scorer.py\", line 264, in _score\n",
      "    return self._sign * self._score_func(y_true, y_pred, **self._kwargs)\n",
      "  File \"/usr/local/lib/python3.7/dist-packages/sklearn/metrics/_classification.py\", line 1131, in f1_score\n",
      "    zero_division=zero_division,\n",
      "  File \"/usr/local/lib/python3.7/dist-packages/sklearn/metrics/_classification.py\", line 1270, in fbeta_score\n",
      "    zero_division=zero_division,\n",
      "  File \"/usr/local/lib/python3.7/dist-packages/sklearn/metrics/_classification.py\", line 1544, in precision_recall_fscore_support\n",
      "    labels = _check_set_wise_labels(y_true, y_pred, average, labels, pos_label)\n",
      "  File \"/usr/local/lib/python3.7/dist-packages/sklearn/metrics/_classification.py\", line 1367, in _check_set_wise_labels\n",
      "    \"choose another average setting, one of %r.\" % (y_type, average_options)\n",
      "ValueError: Target is multiclass but average='binary'. Please choose another average setting, one of [None, 'micro', 'macro', 'weighted'].\n",
      "\n",
      "  UserWarning,\n",
      "/usr/local/lib/python3.7/dist-packages/sklearn/model_selection/_validation.py:774: UserWarning: Scoring failed. The score on this train-test partition for these parameters will be set to nan. Details: \n",
      "Traceback (most recent call last):\n",
      "  File \"/usr/local/lib/python3.7/dist-packages/sklearn/model_selection/_validation.py\", line 761, in _score\n",
      "    scores = scorer(estimator, X_test, y_test)\n",
      "  File \"/usr/local/lib/python3.7/dist-packages/sklearn/metrics/_scorer.py\", line 103, in __call__\n",
      "    score = scorer._score(cached_call, estimator, *args, **kwargs)\n",
      "  File \"/usr/local/lib/python3.7/dist-packages/sklearn/metrics/_scorer.py\", line 264, in _score\n",
      "    return self._sign * self._score_func(y_true, y_pred, **self._kwargs)\n",
      "  File \"/usr/local/lib/python3.7/dist-packages/sklearn/metrics/_classification.py\", line 1131, in f1_score\n",
      "    zero_division=zero_division,\n",
      "  File \"/usr/local/lib/python3.7/dist-packages/sklearn/metrics/_classification.py\", line 1270, in fbeta_score\n",
      "    zero_division=zero_division,\n",
      "  File \"/usr/local/lib/python3.7/dist-packages/sklearn/metrics/_classification.py\", line 1544, in precision_recall_fscore_support\n",
      "    labels = _check_set_wise_labels(y_true, y_pred, average, labels, pos_label)\n",
      "  File \"/usr/local/lib/python3.7/dist-packages/sklearn/metrics/_classification.py\", line 1367, in _check_set_wise_labels\n",
      "    \"choose another average setting, one of %r.\" % (y_type, average_options)\n",
      "ValueError: Target is multiclass but average='binary'. Please choose another average setting, one of [None, 'micro', 'macro', 'weighted'].\n",
      "\n",
      "  UserWarning,\n",
      "/usr/local/lib/python3.7/dist-packages/sklearn/model_selection/_validation.py:774: UserWarning: Scoring failed. The score on this train-test partition for these parameters will be set to nan. Details: \n",
      "Traceback (most recent call last):\n",
      "  File \"/usr/local/lib/python3.7/dist-packages/sklearn/model_selection/_validation.py\", line 761, in _score\n",
      "    scores = scorer(estimator, X_test, y_test)\n",
      "  File \"/usr/local/lib/python3.7/dist-packages/sklearn/metrics/_scorer.py\", line 103, in __call__\n",
      "    score = scorer._score(cached_call, estimator, *args, **kwargs)\n",
      "  File \"/usr/local/lib/python3.7/dist-packages/sklearn/metrics/_scorer.py\", line 264, in _score\n",
      "    return self._sign * self._score_func(y_true, y_pred, **self._kwargs)\n",
      "  File \"/usr/local/lib/python3.7/dist-packages/sklearn/metrics/_classification.py\", line 1131, in f1_score\n",
      "    zero_division=zero_division,\n",
      "  File \"/usr/local/lib/python3.7/dist-packages/sklearn/metrics/_classification.py\", line 1270, in fbeta_score\n",
      "    zero_division=zero_division,\n",
      "  File \"/usr/local/lib/python3.7/dist-packages/sklearn/metrics/_classification.py\", line 1544, in precision_recall_fscore_support\n",
      "    labels = _check_set_wise_labels(y_true, y_pred, average, labels, pos_label)\n",
      "  File \"/usr/local/lib/python3.7/dist-packages/sklearn/metrics/_classification.py\", line 1367, in _check_set_wise_labels\n",
      "    \"choose another average setting, one of %r.\" % (y_type, average_options)\n",
      "ValueError: Target is multiclass but average='binary'. Please choose another average setting, one of [None, 'micro', 'macro', 'weighted'].\n",
      "\n",
      "  UserWarning,\n",
      "/usr/local/lib/python3.7/dist-packages/sklearn/model_selection/_validation.py:774: UserWarning: Scoring failed. The score on this train-test partition for these parameters will be set to nan. Details: \n",
      "Traceback (most recent call last):\n",
      "  File \"/usr/local/lib/python3.7/dist-packages/sklearn/model_selection/_validation.py\", line 761, in _score\n",
      "    scores = scorer(estimator, X_test, y_test)\n",
      "  File \"/usr/local/lib/python3.7/dist-packages/sklearn/metrics/_scorer.py\", line 103, in __call__\n",
      "    score = scorer._score(cached_call, estimator, *args, **kwargs)\n",
      "  File \"/usr/local/lib/python3.7/dist-packages/sklearn/metrics/_scorer.py\", line 264, in _score\n",
      "    return self._sign * self._score_func(y_true, y_pred, **self._kwargs)\n",
      "  File \"/usr/local/lib/python3.7/dist-packages/sklearn/metrics/_classification.py\", line 1131, in f1_score\n",
      "    zero_division=zero_division,\n",
      "  File \"/usr/local/lib/python3.7/dist-packages/sklearn/metrics/_classification.py\", line 1270, in fbeta_score\n",
      "    zero_division=zero_division,\n",
      "  File \"/usr/local/lib/python3.7/dist-packages/sklearn/metrics/_classification.py\", line 1544, in precision_recall_fscore_support\n",
      "    labels = _check_set_wise_labels(y_true, y_pred, average, labels, pos_label)\n",
      "  File \"/usr/local/lib/python3.7/dist-packages/sklearn/metrics/_classification.py\", line 1367, in _check_set_wise_labels\n",
      "    \"choose another average setting, one of %r.\" % (y_type, average_options)\n",
      "ValueError: Target is multiclass but average='binary'. Please choose another average setting, one of [None, 'micro', 'macro', 'weighted'].\n",
      "\n",
      "  UserWarning,\n",
      "/usr/local/lib/python3.7/dist-packages/sklearn/model_selection/_validation.py:774: UserWarning: Scoring failed. The score on this train-test partition for these parameters will be set to nan. Details: \n",
      "Traceback (most recent call last):\n",
      "  File \"/usr/local/lib/python3.7/dist-packages/sklearn/model_selection/_validation.py\", line 761, in _score\n",
      "    scores = scorer(estimator, X_test, y_test)\n",
      "  File \"/usr/local/lib/python3.7/dist-packages/sklearn/metrics/_scorer.py\", line 103, in __call__\n",
      "    score = scorer._score(cached_call, estimator, *args, **kwargs)\n",
      "  File \"/usr/local/lib/python3.7/dist-packages/sklearn/metrics/_scorer.py\", line 264, in _score\n",
      "    return self._sign * self._score_func(y_true, y_pred, **self._kwargs)\n",
      "  File \"/usr/local/lib/python3.7/dist-packages/sklearn/metrics/_classification.py\", line 1131, in f1_score\n",
      "    zero_division=zero_division,\n",
      "  File \"/usr/local/lib/python3.7/dist-packages/sklearn/metrics/_classification.py\", line 1270, in fbeta_score\n",
      "    zero_division=zero_division,\n",
      "  File \"/usr/local/lib/python3.7/dist-packages/sklearn/metrics/_classification.py\", line 1544, in precision_recall_fscore_support\n",
      "    labels = _check_set_wise_labels(y_true, y_pred, average, labels, pos_label)\n",
      "  File \"/usr/local/lib/python3.7/dist-packages/sklearn/metrics/_classification.py\", line 1367, in _check_set_wise_labels\n",
      "    \"choose another average setting, one of %r.\" % (y_type, average_options)\n",
      "ValueError: Target is multiclass but average='binary'. Please choose another average setting, one of [None, 'micro', 'macro', 'weighted'].\n",
      "\n",
      "  UserWarning,\n"
     ]
    },
    {
     "data": {
      "text/plain": [
       "array([nan, nan, nan, nan, nan])"
      ]
     },
     "execution_count": 15,
     "metadata": {},
     "output_type": "execute_result"
    }
   ],
   "source": [
    "f1_scoresarbol= cross_val_score(arbol, X, y, cv=5,scoring='f1' )\n",
    "f1_scoresarbol"
   ]
  },
  {
   "cell_type": "markdown",
   "id": "7d35cd8b",
   "metadata": {
    "id": "7d35cd8b"
   },
   "source": [
    "## Normalizacion de Datos "
   ]
  },
  {
   "cell_type": "code",
   "execution_count": null,
   "id": "628cd4b4",
   "metadata": {
    "ExecuteTime": {
     "end_time": "2021-11-23T02:51:40.215084Z",
     "start_time": "2021-11-23T02:51:39.879078Z"
    },
    "id": "628cd4b4"
   },
   "outputs": [],
   "source": [
    "t_norm=MinMaxScaler()\n",
    "transformador_columnas= MinMaxScaler(feature_range=(0, 1), copy=False)\n",
    "transformador_columnas.fit(X_val_train)\n",
    "X_val_train_N=transformador_columnas.transform(X_val_train)\n",
    "X_val_test_N=transformador_columnas.transform(X_val_test)"
   ]
  },
  {
   "cell_type": "markdown",
   "id": "5d779735",
   "metadata": {
    "id": "5d779735"
   },
   "source": [
    "## Regresion Logistica "
   ]
  },
  {
   "cell_type": "code",
   "execution_count": null,
   "id": "0ffd1b53",
   "metadata": {
    "ExecuteTime": {
     "end_time": "2021-11-23T02:51:40.245076Z",
     "start_time": "2021-11-23T02:51:40.225082Z"
    },
    "id": "0ffd1b53"
   },
   "outputs": [],
   "source": [
    "\n",
    "modeloRLog=linear_model.LogisticRegression(max_iter= 20000,penalty='none',fit_intercept=True, random_state=123)\n",
    "modeloRLog.fit(X_val_train_N,y_val_train)\n",
    "y_val_pred_N=modeloRLog.predict(X_val_test_N)\n",
    "\n",
    "#Evaluamos en el Val_Test Set\n",
    "AC_RLog=accuracy_score(y_val_test, y_val_pred)\n",
    "F1_RLog=f1_score(y_val_test,y_val_pred, average='macro')\n",
    "CM=confusion_matrix(y_test,y_pred)\n",
    "### Mostramos:\n",
    "\n",
    "print(\"Evaluación modelo de Regresión Logística en el Validation\")\n",
    "print(\"Accuracy: \", round(AC_RLog,3))\n",
    "print(\"F1: \", round(F1_RLog,3))"
   ]
  },
  {
   "cell_type": "markdown",
   "id": "eee67fa3",
   "metadata": {
    "id": "eee67fa3"
   },
   "source": [
    "## KNN"
   ]
  },
  {
   "cell_type": "code",
   "execution_count": null,
   "id": "a812ebd6",
   "metadata": {
    "ExecuteTime": {
     "end_time": "2021-11-23T02:51:40.402076Z",
     "start_time": "2021-11-23T02:51:40.249082Z"
    },
    "id": "a812ebd6"
   },
   "outputs": [],
   "source": [
    "k_valores=np.arange(1,21,1)   # tuvimos que poner hasta 21 porque Numpy llega hasta el anterior\n",
    "k_valores                     # ésto se puede omitir si se tiene confianza"
   ]
  },
  {
   "cell_type": "code",
   "execution_count": null,
   "id": "8260f2b6",
   "metadata": {
    "ExecuteTime": {
     "end_time": "2021-11-23T02:51:40.527088Z",
     "start_time": "2021-11-23T02:51:40.405078Z"
    },
    "id": "8260f2b6"
   },
   "outputs": [],
   "source": [
    "#import warnings\n",
    "#warnings.simplefilter('ignore')\n",
    "# Sólo porque me tiraba un Warning molesto, sino no es necesario\n",
    "print(\"Evaluación modelo kNN en el Validation\")\n",
    "\n",
    "# Estos serán los valores para el mejor caso, ahora los inicializamos en 0\n",
    "k_max=0\n",
    "F1kNN_max=0\n",
    "ACkNN_max=0\n",
    "\n",
    "for k in k_valores:\n",
    "    modelokNN = neighbors.KNeighborsClassifier(n_neighbors=k,weights='uniform')\n",
    "    modelokNN.fit(X_val_train_N, y_val_train)\n",
    "    y_val_pred=modelokNN.predict(X_val_test_N)\n",
    "    ACkNN=accuracy_score(y_val_test, y_val_pred)\n",
    "    F1kNN=f1_score(y_val_test,y_val_pred, average='macro')\n",
    "    \n",
    "    if F1kNN>F1kNN_max:\n",
    "        k_max=k\n",
    "        F1kNN_max=F1kNN\n",
    "        ACkNN_max=ACkNN\n",
    "        \n",
    "    \n",
    "    \n",
    "print('Valor de k: ', k_max)\n",
    "print(\"Accuracy: \", round(ACkNN_max,3))\n",
    "print(\"F1: \", round(F1kNN_max,3))"
   ]
  },
  {
   "cell_type": "code",
   "execution_count": null,
   "id": "7da9805f",
   "metadata": {
    "ExecuteTime": {
     "end_time": "2021-11-23T02:51:40.680075Z",
     "start_time": "2021-11-23T02:51:40.533085Z"
    },
    "id": "7da9805f"
   },
   "outputs": [],
   "source": [
    "#import warnings\n",
    "#warnings.simplefilter('ignore')\n",
    "# Sólo porque me tiraba un Warning molesto, sino no es necesario\n",
    "print(\"Evaluación modelo kNN en el Validation\")\n",
    "\n",
    "# Estos serán los valores para el mejor caso, ahora los inicializamos en 0\n",
    "k_maxdis=0\n",
    "F1kNN_maxdis=0\n",
    "ACkNN_maxdis=0\n",
    "\n",
    "for k in k_valores:\n",
    "    modelokNN = neighbors.KNeighborsClassifier(n_neighbors=k,weights='distance')\n",
    "    modelokNN.fit(X_val_train_N, y_val_train)\n",
    "    y_val_pred=modelokNN.predict(X_val_test_N)\n",
    "    ACkNNdis=accuracy_score(y_val_test, y_val_pred)\n",
    "    F1kNNdis=f1_score(y_val_test,y_val_pred, average='macro')\n",
    "    \n",
    "    if F1kNNdis>F1kNN_maxdis:\n",
    "        k_maxdis=k\n",
    "        F1kNN_maxdis=F1kNN\n",
    "        ACkNN_maxdis=ACkNN\n",
    "        \n",
    "    \n",
    "    \n",
    "print('Valor de k: ', k_maxdis)\n",
    "print(\"Accuracy: \", round(ACkNN_maxdis,3))\n",
    "print(\"F1: \", round(F1kNN_maxdis,3))"
   ]
  },
  {
   "cell_type": "markdown",
   "id": "8edec9f8",
   "metadata": {
    "id": "8edec9f8"
   },
   "source": [
    "## SMV"
   ]
  },
  {
   "cell_type": "code",
   "execution_count": null,
   "id": "a26e9463",
   "metadata": {
    "ExecuteTime": {
     "end_time": "2021-11-23T02:55:10.090543Z",
     "start_time": "2021-11-23T02:51:40.684081Z"
    },
    "colab": {
     "base_uri": "https://localhost:8080/"
    },
    "id": "a26e9463",
    "outputId": "955b4aa8-f20f-49ae-941a-b08066be4636"
   },
   "outputs": [
    {
     "data": {
      "text/plain": [
       "0.913125"
      ]
     },
     "execution_count": 21,
     "metadata": {},
     "output_type": "execute_result"
    }
   ],
   "source": [
    "SVM=LinearSVC(max_iter=10000)\n",
    "SVM.fit(X_val_train_N,y_val_train)\n",
    "SVM.score(X_val_test_N,y_val_test)"
   ]
  },
  {
   "cell_type": "markdown",
   "id": "8a2fc0d4",
   "metadata": {
    "id": "8a2fc0d4"
   },
   "source": [
    "## SMV Lineal"
   ]
  },
  {
   "cell_type": "code",
   "execution_count": null,
   "id": "77add343",
   "metadata": {
    "ExecuteTime": {
     "end_time": "2021-11-23T02:58:51.909163Z",
     "start_time": "2021-11-23T02:55:10.093543Z"
    },
    "colab": {
     "base_uri": "https://localhost:8080/"
    },
    "id": "77add343",
    "outputId": "30eecafd-299b-4b85-ae90-4d3946584621"
   },
   "outputs": [
    {
     "name": "stdout",
     "output_type": "stream",
     "text": [
      "AC_train:  0.9321875\n",
      "AC_test:  0.9128125\n"
     ]
    }
   ],
   "source": [
    "SVM1=LinearSVC(C=1, max_iter=100000, tol=0.0001,class_weight='balanced')\n",
    "SVM1.fit(X_val_train_N,y_val_train)\n",
    "# Calculemos Accuracy\n",
    "AC_trainSMV=SVM1.score(X_val_train_N,y_val_train)\n",
    "AC_testSMV=SVM1.score(X_val_test_N,y_val_test)\n",
    "print('AC_train: ', AC_trainSMV)\n",
    "print('AC_test: ', AC_testSMV)"
   ]
  },
  {
   "cell_type": "markdown",
   "id": "0b6d6ba1",
   "metadata": {
    "id": "0b6d6ba1"
   },
   "source": [
    "## SMV con Kernel no lineal \"rbf\""
   ]
  },
  {
   "cell_type": "code",
   "execution_count": null,
   "id": "769c367a",
   "metadata": {
    "ExecuteTime": {
     "end_time": "2021-11-23T03:02:03.090486Z",
     "start_time": "2021-11-23T02:58:51.913164Z"
    },
    "colab": {
     "base_uri": "https://localhost:8080/"
    },
    "id": "769c367a",
    "outputId": "91086ef6-ec26-48d9-ba82-2ac2ade58e20"
   },
   "outputs": [
    {
     "name": "stdout",
     "output_type": "stream",
     "text": [
      "Accuracy para SVM con kernel rbf:  0.9765625\n"
     ]
    }
   ],
   "source": [
    "from sklearn.svm import SVC\n",
    "SVM_rbf=SVC(kernel=\"rbf\")\n",
    "SVM_rbf.fit(X_val_train_N,y_val_train)\n",
    "ACC_rbf=SVM_rbf.score(X_val_test_N,y_val_test)\n",
    "print(\"Accuracy para SVM con kernel rbf: \", ACC_rbf)"
   ]
  },
  {
   "cell_type": "markdown",
   "id": "dc370742",
   "metadata": {
    "id": "dc370742"
   },
   "source": [
    "## SMV con Kernel polinomico grado 3"
   ]
  },
  {
   "cell_type": "code",
   "execution_count": null,
   "id": "fe1ab85c",
   "metadata": {
    "ExecuteTime": {
     "end_time": "2021-11-23T03:04:38.244779Z",
     "start_time": "2021-11-23T03:02:03.095487Z"
    },
    "colab": {
     "base_uri": "https://localhost:8080/"
    },
    "id": "fe1ab85c",
    "outputId": "f97d683d-2512-4f0a-929c-63dfe6507697"
   },
   "outputs": [
    {
     "name": "stdout",
     "output_type": "stream",
     "text": [
      "Accuracy para SVM con kernel rbf:  0.9710416666666667\n"
     ]
    }
   ],
   "source": [
    "SVM_poly=SVC(kernel=\"poly\", degree=3)\n",
    "SVM_poly.fit(X_val_train_N,y_val_train)\n",
    "ACC_poly=SVM_poly.score(X_val_test_N,y_val_test)\n",
    "print(\"Accuracy para SVM con kernel rbf: \", ACC_poly)"
   ]
  },
  {
   "cell_type": "markdown",
   "id": "0682f337",
   "metadata": {
    "id": "0682f337"
   },
   "source": [
    "## SVM con kernel polinómico de grado 4"
   ]
  },
  {
   "cell_type": "code",
   "execution_count": null,
   "id": "60138b13",
   "metadata": {
    "ExecuteTime": {
     "end_time": "2021-11-23T03:07:52.197593Z",
     "start_time": "2021-11-23T03:04:38.253778Z"
    },
    "colab": {
     "base_uri": "https://localhost:8080/"
    },
    "id": "60138b13",
    "outputId": "c8bfee4a-4f4f-4667-b275-d3538b9e1864"
   },
   "outputs": [
    {
     "name": "stdout",
     "output_type": "stream",
     "text": [
      "Accuracy para SVM con kernel rbf:  0.9636458333333333\n"
     ]
    }
   ],
   "source": [
    "SVM_poly=SVC(kernel=\"poly\", degree=4)\n",
    "SVM_poly.fit(X_val_train_N,y_val_train)\n",
    "ACC_poly=SVM_poly.score(X_val_test_N,y_val_test)\n",
    "print(\"Accuracy para SVM con kernel rbf: \", ACC_poly)"
   ]
  },
  {
   "cell_type": "markdown",
   "id": "1dba2db4",
   "metadata": {
    "id": "1dba2db4"
   },
   "source": [
    "## SVM con kernel sigmoide"
   ]
  },
  {
   "cell_type": "code",
   "execution_count": null,
   "id": "d25630c4",
   "metadata": {
    "ExecuteTime": {
     "end_time": "2021-11-23T03:11:35.727649Z",
     "start_time": "2021-11-23T03:07:52.202597Z"
    },
    "colab": {
     "base_uri": "https://localhost:8080/"
    },
    "id": "d25630c4",
    "outputId": "a38f11ad-d4bc-4d2b-8ab7-cd2b6658d881"
   },
   "outputs": [
    {
     "name": "stdout",
     "output_type": "stream",
     "text": [
      "Accuracy para SVM con kernel sigmoide:  0.7770833333333333\n"
     ]
    }
   ],
   "source": [
    "SVM_sig=SVC(kernel=\"sigmoid\")\n",
    "SVM_sig.fit(X_val_train_N,y_val_train)\n",
    "ACC_sig=SVM_sig.score(X_val_test_N,y_val_test)\n",
    "print(\"Accuracy para SVM con kernel sigmoide: \", ACC_sig)"
   ]
  },
  {
   "cell_type": "markdown",
   "id": "6137fe9f",
   "metadata": {
    "id": "6137fe9f"
   },
   "source": [
    "## Voting Classifier"
   ]
  },
  {
   "cell_type": "code",
   "execution_count": null,
   "id": "c1251183",
   "metadata": {
    "ExecuteTime": {
     "end_time": "2021-11-23T03:11:35.743651Z",
     "start_time": "2021-11-23T03:11:35.730652Z"
    },
    "id": "c1251183"
   },
   "outputs": [],
   "source": [
    "#ridge=linear_model.LogisticRegression(max_iter= 20000,penalty='l2',fit_intercept=True, random_state=123)"
   ]
  },
  {
   "cell_type": "code",
   "execution_count": null,
   "id": "20b7e4b0",
   "metadata": {
    "ExecuteTime": {
     "end_time": "2021-11-23T03:11:35.913648Z",
     "start_time": "2021-11-23T03:11:35.749656Z"
    },
    "id": "20b7e4b0"
   },
   "outputs": [],
   "source": [
    "from sklearn.neighbors import KNeighborsClassifier\n",
    "knn=KNeighborsClassifier()"
   ]
  },
  {
   "cell_type": "code",
   "execution_count": null,
   "id": "1569174b",
   "metadata": {
    "ExecuteTime": {
     "end_time": "2021-11-23T03:11:36.053651Z",
     "start_time": "2021-11-23T03:11:35.916654Z"
    },
    "id": "1569174b"
   },
   "outputs": [],
   "source": [
    "#tree=DecisionTreeClassifier(random_state=123)"
   ]
  },
  {
   "cell_type": "code",
   "execution_count": null,
   "id": "1314b0ac",
   "metadata": {
    "ExecuteTime": {
     "end_time": "2021-11-23T03:11:36.178655Z",
     "start_time": "2021-11-23T03:11:36.058654Z"
    },
    "id": "1314b0ac"
   },
   "outputs": [],
   "source": [
    "#svm=SVC( random_state=123, probability=True)   "
   ]
  },
  {
   "cell_type": "code",
   "execution_count": null,
   "id": "896193af",
   "metadata": {
    "ExecuteTime": {
     "end_time": "2021-11-23T03:11:36.304648Z",
     "start_time": "2021-11-23T03:11:36.181653Z"
    },
    "id": "896193af"
   },
   "outputs": [],
   "source": [
    "#modelos_lista=(ridge, knn, tree, svm)\n",
    "\n",
    "#for modelo in modelos_lista:\n",
    "    #modelo.fit(X_val_train_N,y_val_train)\n",
    "    #ACmodelos=modelo.score(X_val_test_N,y_val_test)\n",
    "    #print(\"AC: \",ACmodelos)"
   ]
  },
  {
   "cell_type": "code",
   "execution_count": null,
   "id": "e3cc813a",
   "metadata": {
    "ExecuteTime": {
     "end_time": "2021-11-23T03:11:36.459799Z",
     "start_time": "2021-11-23T03:11:36.307655Z"
    },
    "id": "e3cc813a"
   },
   "outputs": [],
   "source": [
    "#from sklearn.ensemble import VotingClassifier"
   ]
  },
  {
   "cell_type": "code",
   "execution_count": null,
   "id": "01835ff5",
   "metadata": {
    "ExecuteTime": {
     "end_time": "2021-11-23T03:11:36.586094Z",
     "start_time": "2021-11-23T03:11:36.462765Z"
    },
    "id": "01835ff5"
   },
   "outputs": [],
   "source": [
    "#modelos=[('ridge',ridge),('knn',knn),('arbol',tree),('svm',svm)]\n",
    "#votacion=VotingClassifier(estimators=modelos,voting='soft',n_jobs=-1, weights=[2,1,3,1])"
   ]
  },
  {
   "cell_type": "code",
   "execution_count": null,
   "id": "dac808d4",
   "metadata": {
    "ExecuteTime": {
     "end_time": "2021-11-23T03:11:36.713714Z",
     "start_time": "2021-11-23T03:11:36.589058Z"
    },
    "id": "dac808d4"
   },
   "outputs": [],
   "source": [
    "#votacion.fit(X_val_train_N, y_val_train);"
   ]
  },
  {
   "cell_type": "code",
   "execution_count": null,
   "id": "f3359096",
   "metadata": {
    "ExecuteTime": {
     "end_time": "2021-11-23T03:11:36.824835Z",
     "start_time": "2021-11-23T03:11:36.716728Z"
    },
    "id": "f3359096"
   },
   "outputs": [],
   "source": [
    "#AC_votacion=votacion.score(X_val_test_N,y_val_test)\n",
    "#print(\"AC_votacion: \",AC_votacion)"
   ]
  },
  {
   "cell_type": "markdown",
   "id": "b8a0fa17",
   "metadata": {
    "id": "b8a0fa17"
   },
   "source": [
    "## GridSearchCV con VotingClassifier"
   ]
  },
  {
   "cell_type": "markdown",
   "id": "56660559",
   "metadata": {
    "id": "56660559"
   },
   "source": [
    "### Regresion lineal con ridge"
   ]
  },
  {
   "cell_type": "code",
   "execution_count": null,
   "id": "95b32e9d",
   "metadata": {
    "ExecuteTime": {
     "end_time": "2021-11-23T03:11:36.996833Z",
     "start_time": "2021-11-23T03:11:36.826831Z"
    },
    "id": "95b32e9d"
   },
   "outputs": [],
   "source": [
    "#ridge1=linear_model.LogisticRegression(max_iter= 20000,penalty='l2',fit_intercept=True, random_state=123)"
   ]
  },
  {
   "cell_type": "markdown",
   "id": "6125c75c",
   "metadata": {
    "id": "6125c75c"
   },
   "source": [
    "### KNN"
   ]
  },
  {
   "cell_type": "code",
   "execution_count": null,
   "id": "356a8b6a",
   "metadata": {
    "ExecuteTime": {
     "end_time": "2021-11-23T03:11:37.123104Z",
     "start_time": "2021-11-23T03:11:36.999843Z"
    },
    "id": "356a8b6a"
   },
   "outputs": [],
   "source": [
    "#knn1=KNeighborsClassifier(n_jobs=-1)"
   ]
  },
  {
   "cell_type": "markdown",
   "id": "3799e582",
   "metadata": {
    "id": "3799e582"
   },
   "source": [
    "### Arbol"
   ]
  },
  {
   "cell_type": "code",
   "execution_count": null,
   "id": "6a682881",
   "metadata": {
    "ExecuteTime": {
     "end_time": "2021-11-23T03:11:37.262106Z",
     "start_time": "2021-11-23T03:11:37.126106Z"
    },
    "id": "6a682881"
   },
   "outputs": [],
   "source": [
    "#tree1=DecisionTreeClassifier(random_state=123)"
   ]
  },
  {
   "cell_type": "markdown",
   "id": "1b35b206",
   "metadata": {
    "id": "1b35b206"
   },
   "source": [
    "### SMV"
   ]
  },
  {
   "cell_type": "code",
   "execution_count": null,
   "id": "78428d18",
   "metadata": {
    "ExecuteTime": {
     "end_time": "2021-11-23T03:11:37.388109Z",
     "start_time": "2021-11-23T03:11:37.265109Z"
    },
    "id": "78428d18"
   },
   "outputs": [],
   "source": [
    "#svm1=SVC( random_state=123)"
   ]
  },
  {
   "cell_type": "markdown",
   "id": "4e8f1d44",
   "metadata": {
    "id": "4e8f1d44"
   },
   "source": [
    "###  Creamos el \"meta modelo\" con el ensemble del VotingClassifier"
   ]
  },
  {
   "cell_type": "code",
   "execution_count": null,
   "id": "716c08c5",
   "metadata": {
    "ExecuteTime": {
     "end_time": "2021-11-23T03:11:37.498119Z",
     "start_time": "2021-11-23T03:11:37.391105Z"
    },
    "id": "716c08c5"
   },
   "outputs": [],
   "source": [
    "#modelos1=[('ridge',ridge1),('knn',knn1),('arbol',tree1),('svm',svm1)]\n",
    "\n",
    "#ensemble=VotingClassifier(estimators=modelos1,voting='hard',n_jobs=-1,weights=[2,1,3,2])"
   ]
  },
  {
   "cell_type": "code",
   "execution_count": null,
   "id": "896c7e24",
   "metadata": {
    "ExecuteTime": {
     "end_time": "2021-11-23T03:11:37.624107Z",
     "start_time": "2021-11-23T03:11:37.506113Z"
    },
    "id": "896c7e24"
   },
   "outputs": [],
   "source": [
    "#hiperparametros={}"
   ]
  },
  {
   "cell_type": "code",
   "execution_count": null,
   "id": "69565b9b",
   "metadata": {
    "ExecuteTime": {
     "end_time": "2021-11-23T03:11:37.750114Z",
     "start_time": "2021-11-23T03:11:37.627107Z"
    },
    "id": "69565b9b"
   },
   "outputs": [],
   "source": [
    "#hiperparametros['ridge__C']=[1e-1,1,1e1]"
   ]
  },
  {
   "cell_type": "code",
   "execution_count": null,
   "id": "7b0a2bc9",
   "metadata": {
    "ExecuteTime": {
     "end_time": "2021-11-23T03:11:37.877422Z",
     "start_time": "2021-11-23T03:11:37.758116Z"
    },
    "id": "7b0a2bc9"
   },
   "outputs": [],
   "source": [
    "#hiperparametros['knn__n_neighbors']=[5,7]"
   ]
  },
  {
   "cell_type": "code",
   "execution_count": null,
   "id": "e62e93ee",
   "metadata": {
    "ExecuteTime": {
     "end_time": "2021-11-23T03:11:38.000453Z",
     "start_time": "2021-11-23T03:11:37.880177Z"
    },
    "id": "e62e93ee"
   },
   "outputs": [],
   "source": [
    "#hiperparametros['arbol__max_depth']=[1,3,7,9]"
   ]
  },
  {
   "cell_type": "code",
   "execution_count": null,
   "id": "9b619e74",
   "metadata": {
    "ExecuteTime": {
     "end_time": "2021-11-23T03:11:38.140451Z",
     "start_time": "2021-11-23T03:11:38.005453Z"
    },
    "id": "9b619e74"
   },
   "outputs": [],
   "source": [
    "#hiperparametros['svm__C']=[1e-3, 1e-2,1e3]"
   ]
  },
  {
   "cell_type": "code",
   "execution_count": null,
   "id": "4df61ff3",
   "metadata": {
    "ExecuteTime": {
     "end_time": "2021-11-23T03:11:38.312452Z",
     "start_time": "2021-11-23T03:11:38.144452Z"
    },
    "id": "4df61ff3"
   },
   "outputs": [],
   "source": [
    "#hiperparametros"
   ]
  },
  {
   "cell_type": "markdown",
   "id": "ac031f0a",
   "metadata": {
    "id": "ac031f0a"
   },
   "source": [
    "## Creamos GridSearchCV"
   ]
  },
  {
   "cell_type": "code",
   "execution_count": null,
   "id": "0a105e65",
   "metadata": {
    "ExecuteTime": {
     "end_time": "2021-11-23T03:11:38.422448Z",
     "start_time": "2021-11-23T03:11:38.316457Z"
    },
    "id": "0a105e65"
   },
   "outputs": [],
   "source": [
    "#from sklearn.model_selection import GridSearchCV\n",
    "\n",
    "#grid_ensemble= GridSearchCV(estimator=ensemble, param_grid=hiperparametros, cv=5,n_jobs=-1, return_train_score=True)"
   ]
  },
  {
   "cell_type": "markdown",
   "id": "8af1f764",
   "metadata": {
    "id": "8af1f764"
   },
   "source": [
    "### Lo Entrenamos"
   ]
  },
  {
   "cell_type": "code",
   "execution_count": null,
   "id": "e8dececa",
   "metadata": {
    "ExecuteTime": {
     "end_time": "2021-11-23T03:11:38.550456Z",
     "start_time": "2021-11-23T03:11:38.428459Z"
    },
    "id": "e8dececa"
   },
   "outputs": [],
   "source": [
    "#grid_ensemble.fit(X_val_train_N, y_val_train);"
   ]
  },
  {
   "cell_type": "code",
   "execution_count": null,
   "id": "c26cbf72",
   "metadata": {
    "ExecuteTime": {
     "end_time": "2021-11-23T03:11:38.692461Z",
     "start_time": "2021-11-23T03:11:38.555456Z"
    },
    "id": "c26cbf72"
   },
   "outputs": [],
   "source": [
    "#grid_ensemble.best_score_"
   ]
  },
  {
   "cell_type": "code",
   "execution_count": null,
   "id": "cf2599c2",
   "metadata": {
    "ExecuteTime": {
     "end_time": "2021-11-23T03:11:38.818448Z",
     "start_time": "2021-11-23T03:11:38.699457Z"
    },
    "id": "cf2599c2"
   },
   "outputs": [],
   "source": [
    "#grid_ensemble.best_params_"
   ]
  },
  {
   "cell_type": "code",
   "execution_count": null,
   "id": "9dd05d15",
   "metadata": {
    "ExecuteTime": {
     "end_time": "2021-11-23T03:11:38.960455Z",
     "start_time": "2021-11-23T03:11:38.822453Z"
    },
    "id": "9dd05d15"
   },
   "outputs": [],
   "source": [
    "#grid_ensemble.predict(X)"
   ]
  },
  {
   "cell_type": "markdown",
   "id": "3fe20d9a",
   "metadata": {
    "id": "3fe20d9a"
   },
   "source": [
    "### Lo Evaluamos "
   ]
  },
  {
   "cell_type": "code",
   "execution_count": null,
   "id": "d94992c1",
   "metadata": {
    "ExecuteTime": {
     "end_time": "2021-11-23T03:11:39.100464Z",
     "start_time": "2021-11-23T03:11:38.965453Z"
    },
    "id": "d94992c1"
   },
   "outputs": [],
   "source": [
    "#grid_ensemble.best_estimator_"
   ]
  },
  {
   "cell_type": "code",
   "execution_count": null,
   "id": "a18e0f3b",
   "metadata": {
    "ExecuteTime": {
     "end_time": "2021-11-23T03:11:39.255449Z",
     "start_time": "2021-11-23T03:11:39.106460Z"
    },
    "id": "a18e0f3b"
   },
   "outputs": [],
   "source": [
    "#modelo=grid_ensemble.best_estimator_\n",
    "#modelo.fit(X_val_train_N, y_val_train)"
   ]
  },
  {
   "cell_type": "code",
   "execution_count": null,
   "id": "1d0c4200",
   "metadata": {
    "ExecuteTime": {
     "end_time": "2021-11-23T03:11:39.364451Z",
     "start_time": "2021-11-23T03:11:39.259455Z"
    },
    "id": "1d0c4200"
   },
   "outputs": [],
   "source": [
    "#ACGSCV=modelo.score(X_test,y_test)\n",
    "#ACGSCV"
   ]
  },
  {
   "cell_type": "markdown",
   "id": "091021fe",
   "metadata": {
    "id": "091021fe"
   },
   "source": [
    "## Ramdom Forest"
   ]
  },
  {
   "cell_type": "markdown",
   "id": "d763cfca",
   "metadata": {
    "id": "d763cfca"
   },
   "source": [
    "### Creamos el Modelo"
   ]
  },
  {
   "cell_type": "code",
   "execution_count": null,
   "id": "a995b0a3",
   "metadata": {
    "ExecuteTime": {
     "end_time": "2021-11-23T03:11:39.474451Z",
     "start_time": "2021-11-23T03:11:39.368451Z"
    },
    "id": "a995b0a3"
   },
   "outputs": [],
   "source": [
    "\n",
    "#from sklearn.ensemble import RandomForestClassifier\n",
    "#rf=RandomForestClassifier(n_estimators=100,n_jobs=-1,random_state=123)"
   ]
  },
  {
   "cell_type": "markdown",
   "id": "ae9747b5",
   "metadata": {
    "id": "ae9747b5"
   },
   "source": [
    "### Lo Entrenamos"
   ]
  },
  {
   "cell_type": "code",
   "execution_count": null,
   "id": "602f8778",
   "metadata": {
    "ExecuteTime": {
     "end_time": "2021-11-23T03:11:39.630453Z",
     "start_time": "2021-11-23T03:11:39.478453Z"
    },
    "id": "602f8778"
   },
   "outputs": [],
   "source": [
    "#rf.fit(X_val_train_N, y_val_train_N)"
   ]
  },
  {
   "cell_type": "markdown",
   "id": "4633d7ba",
   "metadata": {
    "id": "4633d7ba"
   },
   "source": [
    "### Lo Evaluamos"
   ]
  },
  {
   "cell_type": "code",
   "execution_count": null,
   "id": "5985725f",
   "metadata": {
    "ExecuteTime": {
     "end_time": "2021-11-23T03:11:39.768452Z",
     "start_time": "2021-11-23T03:11:39.635451Z"
    },
    "id": "5985725f"
   },
   "outputs": [],
   "source": [
    "#rf.score(X_test,y_test)"
   ]
  },
  {
   "cell_type": "markdown",
   "id": "9a4f1a8f",
   "metadata": {
    "id": "9a4f1a8f"
   },
   "source": [
    "## Extremely Randomized Trees\n",
    "\n",
    "\n",
    "\n"
   ]
  },
  {
   "cell_type": "code",
   "execution_count": null,
   "id": "804beb33",
   "metadata": {
    "ExecuteTime": {
     "end_time": "2021-11-23T03:11:39.906453Z",
     "start_time": "2021-11-23T03:11:39.772457Z"
    },
    "id": "804beb33"
   },
   "outputs": [],
   "source": [
    "#from sklearn.ensemble import ExtraTreesClassifier\n",
    "#etc=ExtraTreesClassifier(n_estimators=300,n_jobs=-1,random_state=123)"
   ]
  },
  {
   "cell_type": "code",
   "execution_count": null,
   "id": "b85a21f4",
   "metadata": {
    "ExecuteTime": {
     "end_time": "2021-11-23T03:11:40.030447Z",
     "start_time": "2021-11-23T03:11:39.911455Z"
    },
    "id": "b85a21f4"
   },
   "outputs": [],
   "source": [
    "#etc.fit(X_val_train_N, y_val_train)"
   ]
  },
  {
   "cell_type": "code",
   "execution_count": null,
   "id": "9b7200a6",
   "metadata": {
    "ExecuteTime": {
     "end_time": "2021-11-23T03:11:40.154461Z",
     "start_time": "2021-11-23T03:11:40.033455Z"
    },
    "id": "9b7200a6"
   },
   "outputs": [],
   "source": [
    "#etc.score(X_test,y_test)"
   ]
  },
  {
   "cell_type": "markdown",
   "id": "a2a56c32",
   "metadata": {
    "id": "a2a56c32"
   },
   "source": [
    "# Eleccion de Modelo"
   ]
  },
  {
   "cell_type": "code",
   "execution_count": null,
   "id": "ecf3f373",
   "metadata": {
    "id": "ecf3f373"
   },
   "outputs": [],
   "source": []
  },
  {
   "cell_type": "markdown",
   "id": "1663a045",
   "metadata": {
    "id": "1663a045"
   },
   "source": [
    "De acuerdo a los resultados obtenidos, se eligio el modelo  SMV con Kernel no lineal \"rbf\" con un accuracy del 0.976 "
   ]
  },
  {
   "cell_type": "markdown",
   "id": "024b56e1",
   "metadata": {
    "id": "024b56e1"
   },
   "source": [
    "## Normalizamos"
   ]
  },
  {
   "cell_type": "code",
   "execution_count": null,
   "id": "58921327",
   "metadata": {
    "ExecuteTime": {
     "end_time": "2021-11-23T03:11:40.630456Z",
     "start_time": "2021-11-23T03:11:40.171454Z"
    },
    "colab": {
     "base_uri": "https://localhost:8080/"
    },
    "id": "58921327",
    "outputId": "0e664287-df45-4ecc-d563-32c92da623cb"
   },
   "outputs": [
    {
     "data": {
      "text/plain": [
       "MinMaxScaler(copy=False)"
      ]
     },
     "execution_count": 61,
     "metadata": {},
     "output_type": "execute_result"
    }
   ],
   "source": [
    "t_norm=MinMaxScaler()\n",
    "transformador_columnas= MinMaxScaler(feature_range=(0, 1), copy=False)\n",
    "transformador_columnas.fit(X_train)\n"
   ]
  },
  {
   "cell_type": "code",
   "execution_count": null,
   "id": "CMa2Iy8rXzGu",
   "metadata": {
    "colab": {
     "base_uri": "https://localhost:8080/"
    },
    "id": "CMa2Iy8rXzGu",
    "outputId": "8be37220-6356-492e-d124-a883592006c1"
   },
   "outputs": [
    {
     "data": {
      "text/plain": [
       "array([1.        , 1.        , 1.        , 1.        , 1.        ,\n",
       "       1.        , 1.        , 1.        , 1.        , 1.        ,\n",
       "       1.        , 1.        , 1.        , 1.        , 1.        ,\n",
       "       1.        , 1.        , 1.        , 1.        , 1.        ,\n",
       "       1.        , 1.        , 1.        , 1.        , 1.        ,\n",
       "       1.        , 1.        , 1.        , 1.        , 1.        ,\n",
       "       1.        , 1.        , 0.0625    , 0.0212766 , 0.00423729,\n",
       "       0.00395257, 0.00392157, 0.00411523, 0.00392157, 0.00392157,\n",
       "       0.00392157, 0.00392157, 0.00392157, 0.00392157, 0.00392157,\n",
       "       0.00392157, 0.00392157, 0.00392157, 0.00409836, 0.00485437,\n",
       "       0.00543478, 0.00507614, 1.        , 1.        , 1.        ,\n",
       "       1.        , 1.        , 1.        , 0.015625  , 0.03448276,\n",
       "       0.00746269, 0.00520833, 0.00393701, 0.00392157, 0.00392157,\n",
       "       0.00392157, 0.00392157, 0.00392157, 0.00392157, 0.00392157,\n",
       "       0.00392157, 0.00392157, 0.00392157, 0.00392157, 0.00392157,\n",
       "       0.00392157, 0.00392157, 0.00392157, 0.00392157, 0.00392157,\n",
       "       0.00392157, 0.00606061, 1.        , 1.        , 1.        ,\n",
       "       1.        , 0.0070922 , 0.00990099, 0.00719424, 0.00543478,\n",
       "       0.00392157, 0.00392157, 0.00392157, 0.00392157, 0.00392157,\n",
       "       0.00392157, 0.00392157, 0.00392157, 0.00392157, 0.00392157,\n",
       "       0.00392157, 0.00392157, 0.00392157, 0.00392157, 0.00392157,\n",
       "       0.00392157, 0.00392157, 0.00392157, 0.00392157, 0.0042735 ,\n",
       "       0.00613497, 1.        , 1.        , 0.02631579, 0.00694444,\n",
       "       0.00877193, 0.00393701, 0.00392157, 0.00392157, 0.00392157,\n",
       "       0.00392157, 0.00392157, 0.00392157, 0.00392157, 0.00392157,\n",
       "       0.00392157, 0.00392157, 0.00392157, 0.00392157, 0.00392157,\n",
       "       0.00392157, 0.00392157, 0.00392157, 0.00392157, 0.00392157,\n",
       "       0.00392157, 0.00392157, 0.00393701, 0.00406504, 0.01587302,\n",
       "       1.        , 0.04166667, 0.01111111, 0.00392157, 0.00392157,\n",
       "       0.00392157, 0.00392157, 0.00392157, 0.00392157, 0.00392157,\n",
       "       0.00392157, 0.00392157, 0.00392157, 0.00392157, 0.00392157,\n",
       "       0.00392157, 0.00392157, 0.00392157, 0.00392157, 0.00392157,\n",
       "       0.00392157, 0.00392157, 0.00392157, 0.00392157, 0.00392157,\n",
       "       0.00392157, 0.00392157, 0.01075269, 1.        , 0.25      ,\n",
       "       0.00564972, 0.00392157, 0.00392157, 0.00392157, 0.00392157,\n",
       "       0.00392157, 0.00392157, 0.00392157, 0.00392157, 0.00392157,\n",
       "       0.00392157, 0.00392157, 0.00392157, 0.00392157, 0.00392157,\n",
       "       0.00392157, 0.00392157, 0.00392157, 0.00392157, 0.00392157,\n",
       "       0.00392157, 0.00392157, 0.00392157, 0.00392157, 0.00395257,\n",
       "       0.00395257, 0.0212766 , 0.0052356 , 0.00393701, 0.00392157,\n",
       "       0.00392157, 0.00392157, 0.00392157, 0.00392157, 0.00392157,\n",
       "       0.00392157, 0.00392157, 0.00392157, 0.00392157, 0.00392157,\n",
       "       0.00392157, 0.00392157, 0.00392157, 0.00392157, 0.00392157,\n",
       "       0.00392157, 0.00392157, 0.00392157, 0.00392157, 0.00392157,\n",
       "       0.00392157, 0.00392157, 0.00392157, 0.00510204, 0.0052356 ,\n",
       "       0.00396825, 0.00392157, 0.00392157, 0.00392157, 0.00392157,\n",
       "       0.00392157, 0.00392157, 0.00392157, 0.00392157, 0.00392157,\n",
       "       0.00392157, 0.00392157, 0.00392157, 0.00392157, 0.00392157,\n",
       "       0.00392157, 0.00392157, 0.00392157, 0.00392157, 0.00392157,\n",
       "       0.00392157, 0.00392157, 0.00392157, 0.00392157, 0.00392157,\n",
       "       0.00393701, 0.00452489, 0.00543478, 0.00393701, 0.00392157,\n",
       "       0.00392157, 0.00392157, 0.00392157, 0.00392157, 0.00392157,\n",
       "       0.00392157, 0.00392157, 0.00392157, 0.00392157, 0.00392157,\n",
       "       0.00392157, 0.00392157, 0.00392157, 0.00392157, 0.00392157,\n",
       "       0.00392157, 0.00392157, 0.00392157, 0.00392157, 0.00392157,\n",
       "       0.00392157, 0.00392157, 0.00392157, 0.00392157, 0.00490196,\n",
       "       0.00442478, 0.00392157, 0.00392157, 0.00392157, 0.00392157,\n",
       "       0.00392157, 0.00392157, 0.00392157, 0.00392157, 0.00392157,\n",
       "       0.00392157, 0.00392157, 0.00392157, 0.00392157, 0.00392157,\n",
       "       0.00392157, 0.00392157, 0.00392157, 0.00392157, 0.00392157,\n",
       "       0.00392157, 0.00392157, 0.00392157, 0.00392157, 0.00392157,\n",
       "       0.00392157, 0.00393701, 0.00411523, 0.0078125 , 0.00392157,\n",
       "       0.00392157, 0.00392157, 0.00392157, 0.00392157, 0.00392157,\n",
       "       0.00392157, 0.00392157, 0.00392157, 0.00392157, 0.00392157,\n",
       "       0.00392157, 0.00392157, 0.00392157, 0.00392157, 0.00392157,\n",
       "       0.00392157, 0.00392157, 0.00392157, 0.00392157, 0.00392157,\n",
       "       0.00392157, 0.00392157, 0.00392157, 0.00392157, 0.00395257,\n",
       "       0.00892857, 1.        , 0.00392157, 0.00392157, 0.00392157,\n",
       "       0.00392157, 0.00392157, 0.00392157, 0.00392157, 0.00392157,\n",
       "       0.00392157, 0.00392157, 0.00392157, 0.00392157, 0.00392157,\n",
       "       0.00392157, 0.00392157, 0.00392157, 0.00392157, 0.00392157,\n",
       "       0.00392157, 0.00392157, 0.00392157, 0.00392157, 0.00392157,\n",
       "       0.00392157, 0.00393701, 0.00401606, 0.00909091, 1.        ,\n",
       "       0.00395257, 0.00392157, 0.00392157, 0.00392157, 0.00392157,\n",
       "       0.00392157, 0.00392157, 0.00392157, 0.00392157, 0.00392157,\n",
       "       0.00392157, 0.00392157, 0.00392157, 0.00392157, 0.00392157,\n",
       "       0.00392157, 0.00392157, 0.00392157, 0.00392157, 0.00392157,\n",
       "       0.00392157, 0.00392157, 0.00392157, 0.00392157, 0.00392157,\n",
       "       0.00396825, 0.00404858, 1.        , 0.00826446, 0.00393701,\n",
       "       0.00392157, 0.00392157, 0.00392157, 0.00392157, 0.00392157,\n",
       "       0.00392157, 0.00392157, 0.00392157, 0.00392157, 0.00392157,\n",
       "       0.00392157, 0.00392157, 0.00392157, 0.00392157, 0.00392157,\n",
       "       0.00392157, 0.00392157, 0.00392157, 0.00392157, 0.00392157,\n",
       "       0.00392157, 0.00392157, 0.00392157, 0.00393701, 0.01923077,\n",
       "       0.14285714, 0.16666667, 0.00393701, 0.00392157, 0.00392157,\n",
       "       0.00392157, 0.00392157, 0.00392157, 0.00392157, 0.00392157,\n",
       "       0.00392157, 0.00392157, 0.00392157, 0.00392157, 0.00392157,\n",
       "       0.00392157, 0.00392157, 0.00392157, 0.00392157, 0.00392157,\n",
       "       0.00392157, 0.00392157, 0.00392157, 0.00392157, 0.00392157,\n",
       "       0.00392157, 0.00395257, 0.00526316, 0.025     , 0.01086957,\n",
       "       0.00438596, 0.00392157, 0.00392157, 0.00392157, 0.00392157,\n",
       "       0.00392157, 0.00392157, 0.00392157, 0.00392157, 0.00392157,\n",
       "       0.00392157, 0.00392157, 0.00392157, 0.00392157, 0.00392157,\n",
       "       0.00392157, 0.00392157, 0.00392157, 0.00392157, 0.00392157,\n",
       "       0.00392157, 0.00392157, 0.00392157, 0.00392157, 0.00393701,\n",
       "       0.0044843 , 1.        , 0.0075188 , 0.00393701, 0.00392157,\n",
       "       0.00392157, 0.00392157, 0.00392157, 0.00392157, 0.00392157,\n",
       "       0.00392157, 0.00392157, 0.00392157, 0.00392157, 0.00392157,\n",
       "       0.00392157, 0.00392157, 0.00392157, 0.00392157, 0.00392157,\n",
       "       0.00392157, 0.00392157, 0.00392157, 0.00392157, 0.00392157,\n",
       "       0.00392157, 0.00392157, 0.00395257, 0.00943396, 0.01666667,\n",
       "       0.00507614, 0.00392157, 0.00392157, 0.00392157, 0.00392157,\n",
       "       0.00392157, 0.00392157, 0.00392157, 0.00392157, 0.00392157,\n",
       "       0.00392157, 0.00392157, 0.00392157, 0.00392157, 0.00392157,\n",
       "       0.00392157, 0.00392157, 0.00392157, 0.00392157, 0.00392157,\n",
       "       0.00392157, 0.00392157, 0.00392157, 0.00392157, 0.00392157,\n",
       "       0.00392157, 0.00653595, 0.06666667, 0.0060241 , 0.00392157,\n",
       "       0.00392157, 0.00392157, 0.00392157, 0.00392157, 0.00392157,\n",
       "       0.00392157, 0.00392157, 0.00392157, 0.00392157, 0.00392157,\n",
       "       0.00392157, 0.00392157, 0.00392157, 0.00392157, 0.00392157,\n",
       "       0.00392157, 0.00392157, 0.00392157, 0.00392157, 0.00392157,\n",
       "       0.00392157, 0.00392157, 0.00392157, 0.00395257, 0.00826446,\n",
       "       1.        , 0.00540541, 0.00392157, 0.00392157, 0.00392157,\n",
       "       0.00392157, 0.00392157, 0.00392157, 0.00392157, 0.00392157,\n",
       "       0.00392157, 0.00392157, 0.00392157, 0.00392157, 0.00392157,\n",
       "       0.00392157, 0.00392157, 0.00392157, 0.00392157, 0.00392157,\n",
       "       0.00392157, 0.00392157, 0.00392157, 0.00392157, 0.00392157,\n",
       "       0.00392157, 0.00395257, 0.02      , 0.03125   , 0.00540541,\n",
       "       0.00392157, 0.00392157, 0.00392157, 0.00392157, 0.00392157,\n",
       "       0.00392157, 0.00392157, 0.00392157, 0.00392157, 0.00392157,\n",
       "       0.00392157, 0.00392157, 0.00392157, 0.00392157, 0.00392157,\n",
       "       0.00392157, 0.00392157, 0.00392157, 0.00392157, 0.00392157,\n",
       "       0.00392157, 0.00392157, 0.00392157, 0.00392157, 0.00396825,\n",
       "       0.02564103, 0.03225806, 0.02631579, 0.00392157, 0.00392157,\n",
       "       0.00392157, 0.00392157, 0.00392157, 0.00392157, 0.00392157,\n",
       "       0.00392157, 0.00392157, 0.00392157, 0.00392157, 0.00392157,\n",
       "       0.00392157, 0.00392157, 0.00392157, 0.00392157, 0.00392157,\n",
       "       0.00392157, 0.00392157, 0.00392157, 0.00392157, 0.00392157,\n",
       "       0.00392157, 0.00395257, 0.00444444, 0.01388889, 1.        ,\n",
       "       0.04166667, 0.00480769, 0.00392157, 0.00392157, 0.00392157,\n",
       "       0.00392157, 0.00392157, 0.00392157, 0.00392157, 0.00392157,\n",
       "       0.00392157, 0.00392157, 0.00392157, 0.00392157, 0.00392157,\n",
       "       0.00392157, 0.00392157, 0.00392157, 0.00392157, 0.00392157,\n",
       "       0.00392157, 0.00392157, 0.00392157, 0.00392157, 0.00406504,\n",
       "       0.01190476, 1.        , 1.        , 1.        , 0.00395257,\n",
       "       0.00395257, 0.00392157, 0.00392157, 0.00392157, 0.00392157,\n",
       "       0.00392157, 0.00392157, 0.00392157, 0.00392157, 0.00392157,\n",
       "       0.00392157, 0.00392157, 0.00392157, 0.00392157, 0.00392157,\n",
       "       0.00392157, 0.00392157, 0.00392157, 0.00392157, 0.00392157,\n",
       "       0.00392157, 0.00393701, 0.00414938, 0.01020408, 1.        ,\n",
       "       1.        , 1.        , 0.02380952, 0.00571429, 0.00392157,\n",
       "       0.00392157, 0.00392157, 0.00392157, 0.00392157, 0.00392157,\n",
       "       0.00392157, 0.00392157, 0.00392157, 0.00392157, 0.00392157,\n",
       "       0.00392157, 0.00392157, 0.00392157, 0.00392157, 0.00392157,\n",
       "       0.00392157, 0.00392157, 0.00392157, 0.00392157, 0.00395257,\n",
       "       0.00787402, 0.00961538, 1.        , 1.        , 1.        ,\n",
       "       1.        , 0.02631579, 0.00392157, 0.00392157, 0.00392157,\n",
       "       0.00392157, 0.00392157, 0.00392157, 0.00392157, 0.00392157,\n",
       "       0.00392157, 0.00392157, 0.00392157, 0.00392157, 0.00392157,\n",
       "       0.00392157, 0.00392157, 0.00392157, 0.00392157, 0.00392157,\n",
       "       0.00392157, 0.00729927, 0.03571429, 1.        , 1.        ,\n",
       "       1.        , 1.        , 1.        , 1.        , 1.        ,\n",
       "       0.0106383 , 0.00396825, 0.004329  , 0.00393701, 0.00393701,\n",
       "       0.00392157, 0.00392157, 0.00392157, 0.00392157, 0.00392157,\n",
       "       0.00392157, 0.00392157, 0.00392157, 0.00392157, 0.00393701,\n",
       "       0.00395257, 0.00396825, 0.00395257, 0.00393701, 0.01724138,\n",
       "       1.        , 1.        , 1.        , 1.        ])"
      ]
     },
     "execution_count": 62,
     "metadata": {},
     "output_type": "execute_result"
    }
   ],
   "source": [
    "transformador_columnas.scale_"
   ]
  },
  {
   "cell_type": "code",
   "execution_count": null,
   "id": "2ery9exYX3gF",
   "metadata": {
    "id": "2ery9exYX3gF"
   },
   "outputs": [],
   "source": [
    "X_train_N=transformador_columnas.transform(X_train)\n",
    "X_test_N=transformador_columnas.transform(X_test)"
   ]
  },
  {
   "cell_type": "code",
   "execution_count": null,
   "id": "kV7XruplX8uQ",
   "metadata": {
    "id": "kV7XruplX8uQ"
   },
   "outputs": [],
   "source": [
    "X_train_N = X_train / X_train.max().max()\n",
    "X_test_N = X_test / X_train.max().max()"
   ]
  },
  {
   "cell_type": "code",
   "execution_count": null,
   "id": "IlxjYHM7X9tF",
   "metadata": {
    "id": "IlxjYHM7X9tF"
   },
   "outputs": [],
   "source": []
  },
  {
   "cell_type": "markdown",
   "id": "a0d119b9",
   "metadata": {
    "id": "a0d119b9"
   },
   "source": [
    "## Entrenamos y Evaluamos"
   ]
  },
  {
   "cell_type": "code",
   "execution_count": null,
   "id": "1cef3474",
   "metadata": {
    "ExecuteTime": {
     "end_time": "2021-11-23T03:16:08.150715Z",
     "start_time": "2021-11-23T03:11:40.632456Z"
    },
    "colab": {
     "base_uri": "https://localhost:8080/",
     "height": 217
    },
    "id": "1cef3474",
    "outputId": "63fe4741-419f-460f-c42b-84ccdb0e76e1"
   },
   "outputs": [
    {
     "ename": "NameError",
     "evalue": "ignored",
     "output_type": "error",
     "traceback": [
      "\u001b[0;31m---------------------------------------------------------------------------\u001b[0m",
      "\u001b[0;31mNameError\u001b[0m                                 Traceback (most recent call last)",
      "\u001b[0;32m<ipython-input-1-b467ef603081>\u001b[0m in \u001b[0;36m<module>\u001b[0;34m\u001b[0m\n\u001b[0;32m----> 1\u001b[0;31m \u001b[0mSVM_rbfp\u001b[0m\u001b[0;34m=\u001b[0m\u001b[0mSVC\u001b[0m\u001b[0;34m(\u001b[0m\u001b[0mkernel\u001b[0m\u001b[0;34m=\u001b[0m\u001b[0;34m\"rbf\"\u001b[0m\u001b[0;34m)\u001b[0m\u001b[0;34m\u001b[0m\u001b[0;34m\u001b[0m\u001b[0m\n\u001b[0m\u001b[1;32m      2\u001b[0m \u001b[0mSVM_rbfp\u001b[0m\u001b[0;34m.\u001b[0m\u001b[0mfit\u001b[0m\u001b[0;34m(\u001b[0m\u001b[0mX_train_N\u001b[0m\u001b[0;34m,\u001b[0m\u001b[0my_train\u001b[0m\u001b[0;34m)\u001b[0m\u001b[0;34m\u001b[0m\u001b[0;34m\u001b[0m\u001b[0m\n\u001b[1;32m      3\u001b[0m \u001b[0mACC_rbfp\u001b[0m\u001b[0;34m=\u001b[0m\u001b[0mSVM_rbf\u001b[0m\u001b[0;34m.\u001b[0m\u001b[0mscore\u001b[0m\u001b[0;34m(\u001b[0m\u001b[0mX_test_N\u001b[0m\u001b[0;34m,\u001b[0m\u001b[0my_test\u001b[0m\u001b[0;34m)\u001b[0m\u001b[0;34m\u001b[0m\u001b[0;34m\u001b[0m\u001b[0m\n\u001b[1;32m      4\u001b[0m \u001b[0mprint\u001b[0m\u001b[0;34m(\u001b[0m\u001b[0;34m\"Accuracy para SVM con kernel rbf: \"\u001b[0m\u001b[0;34m,\u001b[0m \u001b[0mACC_rbfp\u001b[0m\u001b[0;34m)\u001b[0m\u001b[0;34m\u001b[0m\u001b[0;34m\u001b[0m\u001b[0m\n",
      "\u001b[0;31mNameError\u001b[0m: name 'SVC' is not defined"
     ]
    }
   ],
   "source": [
    "SVM_rbfp=SVC(kernel=\"rbf\")\n",
    "SVM_rbfp.fit(X_train_N,y_train)\n",
    "ACC_rbfp=SVM_rbf.score(X_test_N,y_test)\n",
    "print(\"Accuracy para SVM con kernel rbf: \", ACC_rbfp)"
   ]
  },
  {
   "cell_type": "code",
   "execution_count": null,
   "id": "PwfxZRqXYnim",
   "metadata": {
    "id": "PwfxZRqXYnim"
   },
   "outputs": [],
   "source": [
    "X_n = X / X_train.max().max()"
   ]
  },
  {
   "cell_type": "markdown",
   "id": "0459df6c",
   "metadata": {
    "id": "0459df6c"
   },
   "source": [
    "## Modelo de Produccion"
   ]
  },
  {
   "cell_type": "code",
   "execution_count": null,
   "id": "47d72e07",
   "metadata": {
    "ExecuteTime": {
     "end_time": "2021-11-23T03:44:04.510786Z",
     "start_time": "2021-11-23T03:39:32.178121Z"
    },
    "colab": {
     "base_uri": "https://localhost:8080/"
    },
    "id": "47d72e07",
    "outputId": "e453b3a2-dac2-4f8f-82f6-abdde692027e"
   },
   "outputs": [
    {
     "data": {
      "text/plain": [
       "SVC()"
      ]
     },
     "execution_count": 67,
     "metadata": {},
     "output_type": "execute_result"
    }
   ],
   "source": [
    "SVM_rbfp1=SVC(kernel=\"rbf\")\n",
    "SVM_rbfp1.fit(X_n,y)"
   ]
  },
  {
   "cell_type": "markdown",
   "id": "d1bcd2c1",
   "metadata": {
    "id": "d1bcd2c1"
   },
   "source": [
    "### Nuevos Datos"
   ]
  },
  {
   "cell_type": "code",
   "execution_count": null,
   "id": "49d1aa5b",
   "metadata": {
    "ExecuteTime": {
     "end_time": "2021-11-23T03:44:04.587786Z",
     "start_time": "2021-11-23T03:44:04.517795Z"
    },
    "colab": {
     "base_uri": "https://localhost:8080/"
    },
    "id": "49d1aa5b",
    "outputId": "a908cc5c-14e1-4f87-fa63-a972a32bd4da"
   },
   "outputs": [
    {
     "data": {
      "text/plain": [
       "array([[0., 0., 0., ..., 0., 0., 0.],\n",
       "       [0., 0., 0., ..., 0., 0., 0.],\n",
       "       [0., 0., 0., ..., 0., 0., 0.],\n",
       "       ...,\n",
       "       [0., 0., 0., ..., 0., 0., 0.],\n",
       "       [0., 0., 0., ..., 0., 0., 0.],\n",
       "       [0., 0., 0., ..., 0., 0., 0.]])"
      ]
     },
     "execution_count": 68,
     "metadata": {},
     "output_type": "execute_result"
    }
   ],
   "source": [
    "X1=np.load('/content/drive/MyDrive/AA2/IEFI/data_Alumno/X_MNIST_10_mil.npy', allow_pickle=True)\n",
    "X1\n"
   ]
  },
  {
   "cell_type": "code",
   "execution_count": null,
   "id": "71d68f74",
   "metadata": {
    "ExecuteTime": {
     "end_time": "2021-11-23T04:24:40.963083Z",
     "start_time": "2021-11-23T04:24:40.931046Z"
    },
    "colab": {
     "base_uri": "https://localhost:8080/"
    },
    "id": "71d68f74",
    "outputId": "371a0d0f-f6bb-4a17-d7ed-b04d9ee50a77"
   },
   "outputs": [
    {
     "data": {
      "text/plain": [
       "array([[0., 0., 0., ..., 0., 0., 0.],\n",
       "       [0., 0., 0., ..., 0., 0., 0.],\n",
       "       [0., 0., 0., ..., 0., 0., 0.],\n",
       "       ...,\n",
       "       [0., 0., 0., ..., 0., 0., 0.],\n",
       "       [0., 0., 0., ..., 0., 0., 0.],\n",
       "       [0., 0., 0., ..., 0., 0., 0.]])"
      ]
     },
     "execution_count": 69,
     "metadata": {},
     "output_type": "execute_result"
    }
   ],
   "source": [
    "X1_n= X1 / X_train.max().max()\n",
    "X1_n"
   ]
  },
  {
   "cell_type": "code",
   "execution_count": null,
   "id": "AgsXy86iZNUv",
   "metadata": {
    "colab": {
     "base_uri": "https://localhost:8080/"
    },
    "id": "AgsXy86iZNUv",
    "outputId": "04b67ab9-f560-400c-e456-f252cdd3b61b"
   },
   "outputs": [
    {
     "data": {
      "text/plain": [
       "array([  0.,   1.,   2.,   3.,   4.,   5.,   6.,   7.,   8.,   9.,  10.,\n",
       "        11.,  12.,  13.,  14.,  15.,  16.,  17.,  18.,  19.,  20.,  21.,\n",
       "        22.,  23.,  24.,  25.,  26.,  27.,  28.,  29.,  30.,  31.,  32.,\n",
       "        33.,  34.,  35.,  36.,  37.,  38.,  39.,  40.,  41.,  42.,  43.,\n",
       "        44.,  45.,  46.,  47.,  48.,  49.,  50.,  51.,  52.,  53.,  54.,\n",
       "        55.,  56.,  57.,  58.,  59.,  60.,  61.,  62.,  63.,  64.,  65.,\n",
       "        66.,  67.,  68.,  69.,  70.,  71.,  72.,  73.,  74.,  75.,  76.,\n",
       "        77.,  78.,  79.,  80.,  81.,  82.,  83.,  84.,  85.,  86.,  87.,\n",
       "        88.,  89.,  90.,  91.,  92.,  93.,  94.,  95.,  96.,  97.,  98.,\n",
       "        99., 100., 101., 102., 103., 104., 105., 106., 107., 108., 109.,\n",
       "       110., 111., 112., 113., 114., 115., 116., 117., 118., 119., 120.,\n",
       "       121., 122., 123., 124., 125., 126., 127., 128., 129., 130., 131.,\n",
       "       132., 133., 134., 135., 136., 137., 138., 139., 140., 141., 142.,\n",
       "       143., 144., 145., 146., 147., 148., 149., 150., 151., 152., 153.,\n",
       "       154., 155., 156., 157., 158., 159., 160., 161., 162., 163., 164.,\n",
       "       165., 166., 167., 168., 169., 170., 171., 172., 173., 174., 175.,\n",
       "       176., 177., 178., 179., 180., 181., 182., 183., 184., 185., 186.,\n",
       "       187., 188., 189., 190., 191., 192., 193., 194., 195., 196., 197.,\n",
       "       198., 199., 200., 201., 202., 203., 204., 205., 206., 207., 208.,\n",
       "       209., 210., 211., 212., 213., 214., 215., 216., 217., 218., 219.,\n",
       "       220., 221., 222., 223., 224., 225., 226., 227., 228., 229., 230.,\n",
       "       231., 232., 233., 234., 235., 236., 237., 238., 239., 240., 241.,\n",
       "       242., 243., 244., 245., 246., 247., 248., 249., 250., 251., 252.,\n",
       "       253., 254., 255.])"
      ]
     },
     "execution_count": 70,
     "metadata": {},
     "output_type": "execute_result"
    }
   ],
   "source": [
    "np.unique(X1)"
   ]
  },
  {
   "cell_type": "code",
   "execution_count": null,
   "id": "e3170839",
   "metadata": {
    "ExecuteTime": {
     "end_time": "2021-11-23T04:31:53.465488Z",
     "start_time": "2021-11-23T04:31:53.454484Z"
    },
    "colab": {
     "base_uri": "https://localhost:8080/"
    },
    "id": "e3170839",
    "outputId": "a0fe6415-0c36-4316-df2d-011332cfada7"
   },
   "outputs": [
    {
     "data": {
      "text/plain": [
       "(10000, 784)"
      ]
     },
     "execution_count": 74,
     "metadata": {},
     "output_type": "execute_result"
    }
   ],
   "source": [
    "np.shape(X1_n)"
   ]
  },
  {
   "cell_type": "code",
   "execution_count": null,
   "id": "94514cb1",
   "metadata": {
    "ExecuteTime": {
     "start_time": "2021-11-23T04:31:55.967Z"
    },
    "id": "94514cb1"
   },
   "outputs": [],
   "source": [
    "y_pred= SVM_rbfp1.predict(X1_n)"
   ]
  },
  {
   "cell_type": "code",
   "execution_count": null,
   "id": "5294fbc0",
   "metadata": {
    "ExecuteTime": {
     "start_time": "2021-11-23T04:31:59.916Z"
    },
    "colab": {
     "base_uri": "https://localhost:8080/",
     "height": 424
    },
    "id": "5294fbc0",
    "outputId": "6fbd9005-3832-4423-b6d8-79be49034fb9"
   },
   "outputs": [
    {
     "data": {
      "text/html": [
       "\n",
       "  <div id=\"df-e2cd7bda-587e-40b4-aee9-b916c8d8ebba\">\n",
       "    <div class=\"colab-df-container\">\n",
       "      <div>\n",
       "<style scoped>\n",
       "    .dataframe tbody tr th:only-of-type {\n",
       "        vertical-align: middle;\n",
       "    }\n",
       "\n",
       "    .dataframe tbody tr th {\n",
       "        vertical-align: top;\n",
       "    }\n",
       "\n",
       "    .dataframe thead th {\n",
       "        text-align: right;\n",
       "    }\n",
       "</style>\n",
       "<table border=\"1\" class=\"dataframe\">\n",
       "  <thead>\n",
       "    <tr style=\"text-align: right;\">\n",
       "      <th></th>\n",
       "      <th>y_pred</th>\n",
       "    </tr>\n",
       "  </thead>\n",
       "  <tbody>\n",
       "    <tr>\n",
       "      <th>0</th>\n",
       "      <td>0</td>\n",
       "    </tr>\n",
       "    <tr>\n",
       "      <th>1</th>\n",
       "      <td>9</td>\n",
       "    </tr>\n",
       "    <tr>\n",
       "      <th>2</th>\n",
       "      <td>4</td>\n",
       "    </tr>\n",
       "    <tr>\n",
       "      <th>3</th>\n",
       "      <td>9</td>\n",
       "    </tr>\n",
       "    <tr>\n",
       "      <th>4</th>\n",
       "      <td>5</td>\n",
       "    </tr>\n",
       "    <tr>\n",
       "      <th>...</th>\n",
       "      <td>...</td>\n",
       "    </tr>\n",
       "    <tr>\n",
       "      <th>9995</th>\n",
       "      <td>7</td>\n",
       "    </tr>\n",
       "    <tr>\n",
       "      <th>9996</th>\n",
       "      <td>6</td>\n",
       "    </tr>\n",
       "    <tr>\n",
       "      <th>9997</th>\n",
       "      <td>5</td>\n",
       "    </tr>\n",
       "    <tr>\n",
       "      <th>9998</th>\n",
       "      <td>9</td>\n",
       "    </tr>\n",
       "    <tr>\n",
       "      <th>9999</th>\n",
       "      <td>7</td>\n",
       "    </tr>\n",
       "  </tbody>\n",
       "</table>\n",
       "<p>10000 rows × 1 columns</p>\n",
       "</div>\n",
       "      <button class=\"colab-df-convert\" onclick=\"convertToInteractive('df-e2cd7bda-587e-40b4-aee9-b916c8d8ebba')\"\n",
       "              title=\"Convert this dataframe to an interactive table.\"\n",
       "              style=\"display:none;\">\n",
       "        \n",
       "  <svg xmlns=\"http://www.w3.org/2000/svg\" height=\"24px\"viewBox=\"0 0 24 24\"\n",
       "       width=\"24px\">\n",
       "    <path d=\"M0 0h24v24H0V0z\" fill=\"none\"/>\n",
       "    <path d=\"M18.56 5.44l.94 2.06.94-2.06 2.06-.94-2.06-.94-.94-2.06-.94 2.06-2.06.94zm-11 1L8.5 8.5l.94-2.06 2.06-.94-2.06-.94L8.5 2.5l-.94 2.06-2.06.94zm10 10l.94 2.06.94-2.06 2.06-.94-2.06-.94-.94-2.06-.94 2.06-2.06.94z\"/><path d=\"M17.41 7.96l-1.37-1.37c-.4-.4-.92-.59-1.43-.59-.52 0-1.04.2-1.43.59L10.3 9.45l-7.72 7.72c-.78.78-.78 2.05 0 2.83L4 21.41c.39.39.9.59 1.41.59.51 0 1.02-.2 1.41-.59l7.78-7.78 2.81-2.81c.8-.78.8-2.07 0-2.86zM5.41 20L4 18.59l7.72-7.72 1.47 1.35L5.41 20z\"/>\n",
       "  </svg>\n",
       "      </button>\n",
       "      \n",
       "  <style>\n",
       "    .colab-df-container {\n",
       "      display:flex;\n",
       "      flex-wrap:wrap;\n",
       "      gap: 12px;\n",
       "    }\n",
       "\n",
       "    .colab-df-convert {\n",
       "      background-color: #E8F0FE;\n",
       "      border: none;\n",
       "      border-radius: 50%;\n",
       "      cursor: pointer;\n",
       "      display: none;\n",
       "      fill: #1967D2;\n",
       "      height: 32px;\n",
       "      padding: 0 0 0 0;\n",
       "      width: 32px;\n",
       "    }\n",
       "\n",
       "    .colab-df-convert:hover {\n",
       "      background-color: #E2EBFA;\n",
       "      box-shadow: 0px 1px 2px rgba(60, 64, 67, 0.3), 0px 1px 3px 1px rgba(60, 64, 67, 0.15);\n",
       "      fill: #174EA6;\n",
       "    }\n",
       "\n",
       "    [theme=dark] .colab-df-convert {\n",
       "      background-color: #3B4455;\n",
       "      fill: #D2E3FC;\n",
       "    }\n",
       "\n",
       "    [theme=dark] .colab-df-convert:hover {\n",
       "      background-color: #434B5C;\n",
       "      box-shadow: 0px 1px 3px 1px rgba(0, 0, 0, 0.15);\n",
       "      filter: drop-shadow(0px 1px 2px rgba(0, 0, 0, 0.3));\n",
       "      fill: #FFFFFF;\n",
       "    }\n",
       "  </style>\n",
       "\n",
       "      <script>\n",
       "        const buttonEl =\n",
       "          document.querySelector('#df-e2cd7bda-587e-40b4-aee9-b916c8d8ebba button.colab-df-convert');\n",
       "        buttonEl.style.display =\n",
       "          google.colab.kernel.accessAllowed ? 'block' : 'none';\n",
       "\n",
       "        async function convertToInteractive(key) {\n",
       "          const element = document.querySelector('#df-e2cd7bda-587e-40b4-aee9-b916c8d8ebba');\n",
       "          const dataTable =\n",
       "            await google.colab.kernel.invokeFunction('convertToInteractive',\n",
       "                                                     [key], {});\n",
       "          if (!dataTable) return;\n",
       "\n",
       "          const docLinkHtml = 'Like what you see? Visit the ' +\n",
       "            '<a target=\"_blank\" href=https://colab.research.google.com/notebooks/data_table.ipynb>data table notebook</a>'\n",
       "            + ' to learn more about interactive tables.';\n",
       "          element.innerHTML = '';\n",
       "          dataTable['output_type'] = 'display_data';\n",
       "          await google.colab.output.renderOutput(dataTable, element);\n",
       "          const docLink = document.createElement('div');\n",
       "          docLink.innerHTML = docLinkHtml;\n",
       "          element.appendChild(docLink);\n",
       "        }\n",
       "      </script>\n",
       "    </div>\n",
       "  </div>\n",
       "  "
      ],
      "text/plain": [
       "      y_pred\n",
       "0          0\n",
       "1          9\n",
       "2          4\n",
       "3          9\n",
       "4          5\n",
       "...      ...\n",
       "9995       7\n",
       "9996       6\n",
       "9997       5\n",
       "9998       9\n",
       "9999       7\n",
       "\n",
       "[10000 rows x 1 columns]"
      ]
     },
     "execution_count": 82,
     "metadata": {},
     "output_type": "execute_result"
    }
   ],
   "source": [
    "y_pred= pd.DataFrame(y_pred,columns=['y_pred'])\n",
    "y_pred.to_csv('MatosMontoya_Gonzalo.csv',index=False)\n",
    "y_pred"
   ]
  },
  {
   "cell_type": "code",
   "execution_count": null,
   "id": "4a8f0817",
   "metadata": {
    "ExecuteTime": {
     "end_time": "2021-11-23T03:50:40.394795Z",
     "start_time": "2021-11-23T03:50:40.362783Z"
    },
    "colab": {
     "base_uri": "https://localhost:8080/"
    },
    "id": "4a8f0817",
    "outputId": "8ed85bc1-a446-4afb-a2d2-f261023ce829"
   },
   "outputs": [
    {
     "data": {
      "text/plain": [
       "(10000, 28, 28)"
      ]
     },
     "execution_count": 83,
     "metadata": {},
     "output_type": "execute_result"
    }
   ],
   "source": [
    "Y_img=np.resize(X1,(10000,28,28))\n",
    "Y_img.shape"
   ]
  },
  {
   "cell_type": "code",
   "execution_count": null,
   "id": "nBS1bg43bfdG",
   "metadata": {
    "colab": {
     "base_uri": "https://localhost:8080/",
     "height": 571
    },
    "id": "nBS1bg43bfdG",
    "outputId": "94869e0e-00b3-4806-b708-2b6e1d48ac5c"
   },
   "outputs": [
    {
     "data": {
      "image/png": "[encoded data removed]",
      "text/plain": [
       "<Figure size 720x720 with 24 Axes>"
      ]
     },
     "metadata": {
      "needs_background": "light"
     },
     "output_type": "display_data"
    }
   ],
   "source": [
    "pos_inicial=500            # Seleccionar a partir de qué imagen queremos ver ésa y las  23 imágenes siguientes\n",
    "\n",
    "plt.figure(figsize = (10,10))               # tamaño de todo el plot\n",
    "plt.subplots_adjust(wspace=0.3, hspace=0.3) # para ajustar los espaciados entre cada subplot, como % del total\n",
    "\n",
    "for i in range(0,24):\n",
    "    # cargamos la imagen en cada subplot con imshow()\n",
    "    plt.subplot(4,6,i+1)\n",
    "    plt.imshow(Y_img[pos_inicial+i], cmap='binary', vmin=0, vmax=255) \n",
    "    # Info sobre los mapas de color cmap: https://matplotlib.org/3.3.3/tutorials/colors/colormaps.html\n",
    "    plt.title(y[pos_inicial+i])         # obtenemos la clase desde y_clases\n",
    "\n",
    "plt.show()"
   ]
  }
 ],
 "metadata": {
  "colab": {
   "provenance": []
  },
  "kernelspec": {
   "display_name": "Python 3 (ipykernel)",
   "language": "python",
   "name": "python3"
  },
  "language_info": {
   "codemirror_mode": {
    "name": "ipython",
    "version": 3
   },
   "file_extension": ".py",
   "mimetype": "text/x-python",
   "name": "python",
   "nbconvert_exporter": "python",
   "pygments_lexer": "ipython3",
   "version": "3.9.7"
  },
  "toc": {
   "base_numbering": 1,
   "nav_menu": {},
   "number_sections": true,
   "sideBar": true,
   "skip_h1_title": false,
   "title_cell": "Table of Contents",
   "title_sidebar": "Contents",
   "toc_cell": true,
   "toc_position": {},
   "toc_section_display": true,
   "toc_window_display": true
  }
 },
 "nbformat": 4,
 "nbformat_minor": 5
}
